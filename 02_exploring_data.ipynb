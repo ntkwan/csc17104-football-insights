{
 "cells": [
  {
   "cell_type": "markdown",
   "metadata": {},
   "source": []
  },
  {
   "cell_type": "markdown",
   "metadata": {
    "id": "wn5o_9GqMd1i"
   },
   "source": [
    "# <center> Phase 02: Exploring data & preprocess\n"
   ]
  },
  {
   "cell_type": "markdown",
   "metadata": {
    "id": "wWRiE0LMMmKq"
   },
   "source": [
    "# Import các thư viện cần thiết\n"
   ]
  },
  {
   "cell_type": "code",
   "execution_count": 42,
   "metadata": {
    "id": "0rRJUzwBMfmn"
   },
   "outputs": [],
   "source": [
    "import requests\n",
    "import json\n",
    "import pandas as pd\n",
    "import numpy as np\n",
    "import time\n",
    "import datetime\n",
    "import calendar\n",
    "import seaborn as sns\n",
    "import matplotlib.pyplot as plt"
   ]
  },
  {
   "cell_type": "markdown",
   "metadata": {
    "id": "7RslL8X9-DAh"
   },
   "source": [
    "# TIỀN XỬ LÝ DỮ LIỆU TỪ FILE understat.com.csv\n"
   ]
  },
  {
   "cell_type": "markdown",
   "metadata": {
    "id": "-hB_rBTTGL3K"
   },
   "source": [
    "Đây là dữ liệu tổng hợp các chỉ số thống kê của các đội bóng qua từng mùa giải trong một giải đấu cụ thể. Nó bao gồm các thông tin về hiệu suất của đội bóng như số trận đấu, số bàn thắng, bàn thua, điểm số thực tế, và các chỉ số kỳ vọng như xG (Expected Goals) hoặc xGA (Expected Goals Against).\n",
    "\n",
    "Phạm vi dữ liệu: tổng hợp cả mùa giải\n",
    "\n",
    "Thời gian mùa giải: 2014 - 2019\n",
    "\n",
    "Số lượng mùa giải: 6 năm\n"
   ]
  },
  {
   "cell_type": "markdown",
   "metadata": {
    "id": "W0xVYMmyF8Xd"
   },
   "source": [
    "## A. LÀM SẠCH DỮ LIỆU"
   ]
  },
  {
   "cell_type": "markdown",
   "metadata": {
    "id": "Nrr_EUZtVDt3"
   },
   "source": [
    "### A.1. Khám phá dữ liệu"
   ]
  },
  {
   "cell_type": "markdown",
   "metadata": {
    "id": "ONeAa5Ucq6V9"
   },
   "source": [
    "#### Đọc dữ liệu từ raw_data"
   ]
  },
  {
   "cell_type": "markdown",
   "metadata": {
    "id": "n8GyP4NZrVTq"
   },
   "source": [
    "Đầu tiên, ta đọc 'understat.com.csv' để lưu trữ vào biến raw_data_overview"
   ]
  },
  {
   "cell_type": "code",
   "execution_count": 43,
   "metadata": {
    "colab": {
     "base_uri": "https://localhost:8080/",
     "height": 582
    },
    "id": "hqE81Yvc4tlR",
    "outputId": "0bcc6835-ae43-472d-9eeb-833fb2bf0f06"
   },
   "outputs": [
    {
     "data": {
      "text/html": [
       "<div>\n",
       "<style scoped>\n",
       "    .dataframe tbody tr th:only-of-type {\n",
       "        vertical-align: middle;\n",
       "    }\n",
       "\n",
       "    .dataframe tbody tr th {\n",
       "        vertical-align: top;\n",
       "    }\n",
       "\n",
       "    .dataframe thead th {\n",
       "        text-align: right;\n",
       "    }\n",
       "</style>\n",
       "<table border=\"1\" class=\"dataframe\">\n",
       "  <thead>\n",
       "    <tr style=\"text-align: right;\">\n",
       "      <th></th>\n",
       "      <th>league</th>\n",
       "      <th>year</th>\n",
       "      <th>position</th>\n",
       "      <th>team</th>\n",
       "      <th>matches</th>\n",
       "      <th>wins</th>\n",
       "      <th>draws</th>\n",
       "      <th>loses</th>\n",
       "      <th>scored</th>\n",
       "      <th>missed</th>\n",
       "      <th>...</th>\n",
       "      <th>xGA</th>\n",
       "      <th>xGA_diff</th>\n",
       "      <th>npxGA</th>\n",
       "      <th>npxGD</th>\n",
       "      <th>ppda_coef</th>\n",
       "      <th>oppda_coef</th>\n",
       "      <th>deep</th>\n",
       "      <th>deep_allowed</th>\n",
       "      <th>xpts</th>\n",
       "      <th>xpts_diff</th>\n",
       "    </tr>\n",
       "  </thead>\n",
       "  <tbody>\n",
       "    <tr>\n",
       "      <th>0</th>\n",
       "      <td>La_liga</td>\n",
       "      <td>2014</td>\n",
       "      <td>1</td>\n",
       "      <td>Barcelona</td>\n",
       "      <td>38</td>\n",
       "      <td>30</td>\n",
       "      <td>4</td>\n",
       "      <td>4</td>\n",
       "      <td>110</td>\n",
       "      <td>21</td>\n",
       "      <td>...</td>\n",
       "      <td>28.444293</td>\n",
       "      <td>7.444293</td>\n",
       "      <td>24.727907</td>\n",
       "      <td>73.049305</td>\n",
       "      <td>5.683535</td>\n",
       "      <td>16.367593</td>\n",
       "      <td>489</td>\n",
       "      <td>114</td>\n",
       "      <td>94.0813</td>\n",
       "      <td>0.0813</td>\n",
       "    </tr>\n",
       "    <tr>\n",
       "      <th>1</th>\n",
       "      <td>La_liga</td>\n",
       "      <td>2014</td>\n",
       "      <td>2</td>\n",
       "      <td>Real Madrid</td>\n",
       "      <td>38</td>\n",
       "      <td>30</td>\n",
       "      <td>2</td>\n",
       "      <td>6</td>\n",
       "      <td>118</td>\n",
       "      <td>38</td>\n",
       "      <td>...</td>\n",
       "      <td>42.607198</td>\n",
       "      <td>4.607198</td>\n",
       "      <td>38.890805</td>\n",
       "      <td>47.213090</td>\n",
       "      <td>10.209085</td>\n",
       "      <td>12.929510</td>\n",
       "      <td>351</td>\n",
       "      <td>153</td>\n",
       "      <td>81.7489</td>\n",
       "      <td>-10.2511</td>\n",
       "    </tr>\n",
       "    <tr>\n",
       "      <th>2</th>\n",
       "      <td>La_liga</td>\n",
       "      <td>2014</td>\n",
       "      <td>3</td>\n",
       "      <td>Atletico Madrid</td>\n",
       "      <td>38</td>\n",
       "      <td>23</td>\n",
       "      <td>9</td>\n",
       "      <td>6</td>\n",
       "      <td>67</td>\n",
       "      <td>29</td>\n",
       "      <td>...</td>\n",
       "      <td>29.069107</td>\n",
       "      <td>0.069107</td>\n",
       "      <td>26.839271</td>\n",
       "      <td>25.748737</td>\n",
       "      <td>8.982028</td>\n",
       "      <td>9.237091</td>\n",
       "      <td>197</td>\n",
       "      <td>123</td>\n",
       "      <td>73.1353</td>\n",
       "      <td>-4.8647</td>\n",
       "    </tr>\n",
       "    <tr>\n",
       "      <th>3</th>\n",
       "      <td>La_liga</td>\n",
       "      <td>2014</td>\n",
       "      <td>4</td>\n",
       "      <td>Valencia</td>\n",
       "      <td>38</td>\n",
       "      <td>22</td>\n",
       "      <td>11</td>\n",
       "      <td>5</td>\n",
       "      <td>70</td>\n",
       "      <td>32</td>\n",
       "      <td>...</td>\n",
       "      <td>39.392572</td>\n",
       "      <td>7.392572</td>\n",
       "      <td>33.446477</td>\n",
       "      <td>16.257501</td>\n",
       "      <td>8.709827</td>\n",
       "      <td>7.870225</td>\n",
       "      <td>203</td>\n",
       "      <td>172</td>\n",
       "      <td>63.7068</td>\n",
       "      <td>-13.2932</td>\n",
       "    </tr>\n",
       "    <tr>\n",
       "      <th>4</th>\n",
       "      <td>La_liga</td>\n",
       "      <td>2014</td>\n",
       "      <td>5</td>\n",
       "      <td>Sevilla</td>\n",
       "      <td>38</td>\n",
       "      <td>23</td>\n",
       "      <td>7</td>\n",
       "      <td>8</td>\n",
       "      <td>71</td>\n",
       "      <td>45</td>\n",
       "      <td>...</td>\n",
       "      <td>47.862742</td>\n",
       "      <td>2.862742</td>\n",
       "      <td>41.916529</td>\n",
       "      <td>20.178070</td>\n",
       "      <td>8.276148</td>\n",
       "      <td>9.477805</td>\n",
       "      <td>305</td>\n",
       "      <td>168</td>\n",
       "      <td>67.3867</td>\n",
       "      <td>-8.6133</td>\n",
       "    </tr>\n",
       "    <tr>\n",
       "      <th>...</th>\n",
       "      <td>...</td>\n",
       "      <td>...</td>\n",
       "      <td>...</td>\n",
       "      <td>...</td>\n",
       "      <td>...</td>\n",
       "      <td>...</td>\n",
       "      <td>...</td>\n",
       "      <td>...</td>\n",
       "      <td>...</td>\n",
       "      <td>...</td>\n",
       "      <td>...</td>\n",
       "      <td>...</td>\n",
       "      <td>...</td>\n",
       "      <td>...</td>\n",
       "      <td>...</td>\n",
       "      <td>...</td>\n",
       "      <td>...</td>\n",
       "      <td>...</td>\n",
       "      <td>...</td>\n",
       "      <td>...</td>\n",
       "      <td>...</td>\n",
       "    </tr>\n",
       "    <tr>\n",
       "      <th>679</th>\n",
       "      <td>RFPL</td>\n",
       "      <td>2019</td>\n",
       "      <td>12</td>\n",
       "      <td>PFC Sochi</td>\n",
       "      <td>30</td>\n",
       "      <td>8</td>\n",
       "      <td>9</td>\n",
       "      <td>13</td>\n",
       "      <td>40</td>\n",
       "      <td>39</td>\n",
       "      <td>...</td>\n",
       "      <td>38.850259</td>\n",
       "      <td>-0.149741</td>\n",
       "      <td>32.780898</td>\n",
       "      <td>-0.096048</td>\n",
       "      <td>12.838079</td>\n",
       "      <td>10.562327</td>\n",
       "      <td>175</td>\n",
       "      <td>206</td>\n",
       "      <td>38.6587</td>\n",
       "      <td>5.6587</td>\n",
       "    </tr>\n",
       "    <tr>\n",
       "      <th>680</th>\n",
       "      <td>RFPL</td>\n",
       "      <td>2019</td>\n",
       "      <td>13</td>\n",
       "      <td>FK Akhmat</td>\n",
       "      <td>30</td>\n",
       "      <td>7</td>\n",
       "      <td>10</td>\n",
       "      <td>13</td>\n",
       "      <td>27</td>\n",
       "      <td>46</td>\n",
       "      <td>...</td>\n",
       "      <td>40.626196</td>\n",
       "      <td>-5.373804</td>\n",
       "      <td>38.363370</td>\n",
       "      <td>-10.495864</td>\n",
       "      <td>11.199502</td>\n",
       "      <td>10.806357</td>\n",
       "      <td>124</td>\n",
       "      <td>206</td>\n",
       "      <td>36.5424</td>\n",
       "      <td>5.5424</td>\n",
       "    </tr>\n",
       "    <tr>\n",
       "      <th>681</th>\n",
       "      <td>RFPL</td>\n",
       "      <td>2019</td>\n",
       "      <td>14</td>\n",
       "      <td>Krylya Sovetov Samara</td>\n",
       "      <td>30</td>\n",
       "      <td>8</td>\n",
       "      <td>7</td>\n",
       "      <td>15</td>\n",
       "      <td>33</td>\n",
       "      <td>40</td>\n",
       "      <td>...</td>\n",
       "      <td>42.980693</td>\n",
       "      <td>2.980693</td>\n",
       "      <td>37.550114</td>\n",
       "      <td>-7.777201</td>\n",
       "      <td>11.949903</td>\n",
       "      <td>10.080858</td>\n",
       "      <td>103</td>\n",
       "      <td>215</td>\n",
       "      <td>36.3363</td>\n",
       "      <td>5.3363</td>\n",
       "    </tr>\n",
       "    <tr>\n",
       "      <th>682</th>\n",
       "      <td>RFPL</td>\n",
       "      <td>2019</td>\n",
       "      <td>15</td>\n",
       "      <td>FC Tambov</td>\n",
       "      <td>30</td>\n",
       "      <td>9</td>\n",
       "      <td>4</td>\n",
       "      <td>17</td>\n",
       "      <td>37</td>\n",
       "      <td>41</td>\n",
       "      <td>...</td>\n",
       "      <td>39.747938</td>\n",
       "      <td>-1.252062</td>\n",
       "      <td>34.468003</td>\n",
       "      <td>-12.231948</td>\n",
       "      <td>14.666049</td>\n",
       "      <td>9.192768</td>\n",
       "      <td>150</td>\n",
       "      <td>270</td>\n",
       "      <td>29.2413</td>\n",
       "      <td>-1.7587</td>\n",
       "    </tr>\n",
       "    <tr>\n",
       "      <th>683</th>\n",
       "      <td>RFPL</td>\n",
       "      <td>2019</td>\n",
       "      <td>16</td>\n",
       "      <td>FC Orenburg</td>\n",
       "      <td>30</td>\n",
       "      <td>7</td>\n",
       "      <td>6</td>\n",
       "      <td>17</td>\n",
       "      <td>28</td>\n",
       "      <td>52</td>\n",
       "      <td>...</td>\n",
       "      <td>37.169797</td>\n",
       "      <td>-14.830203</td>\n",
       "      <td>32.644130</td>\n",
       "      <td>0.201339</td>\n",
       "      <td>12.830908</td>\n",
       "      <td>9.464581</td>\n",
       "      <td>153</td>\n",
       "      <td>215</td>\n",
       "      <td>39.2364</td>\n",
       "      <td>12.2364</td>\n",
       "    </tr>\n",
       "  </tbody>\n",
       "</table>\n",
       "<p>684 rows × 24 columns</p>\n",
       "</div>"
      ],
      "text/plain": [
       "      league  year  position                   team  matches  wins  draws  \\\n",
       "0    La_liga  2014         1              Barcelona       38    30      4   \n",
       "1    La_liga  2014         2            Real Madrid       38    30      2   \n",
       "2    La_liga  2014         3        Atletico Madrid       38    23      9   \n",
       "3    La_liga  2014         4               Valencia       38    22     11   \n",
       "4    La_liga  2014         5                Sevilla       38    23      7   \n",
       "..       ...   ...       ...                    ...      ...   ...    ...   \n",
       "679     RFPL  2019        12              PFC Sochi       30     8      9   \n",
       "680     RFPL  2019        13              FK Akhmat       30     7     10   \n",
       "681     RFPL  2019        14  Krylya Sovetov Samara       30     8      7   \n",
       "682     RFPL  2019        15              FC Tambov       30     9      4   \n",
       "683     RFPL  2019        16            FC Orenburg       30     7      6   \n",
       "\n",
       "     loses  scored  missed  ...        xGA   xGA_diff      npxGA      npxGD  \\\n",
       "0        4     110      21  ...  28.444293   7.444293  24.727907  73.049305   \n",
       "1        6     118      38  ...  42.607198   4.607198  38.890805  47.213090   \n",
       "2        6      67      29  ...  29.069107   0.069107  26.839271  25.748737   \n",
       "3        5      70      32  ...  39.392572   7.392572  33.446477  16.257501   \n",
       "4        8      71      45  ...  47.862742   2.862742  41.916529  20.178070   \n",
       "..     ...     ...     ...  ...        ...        ...        ...        ...   \n",
       "679     13      40      39  ...  38.850259  -0.149741  32.780898  -0.096048   \n",
       "680     13      27      46  ...  40.626196  -5.373804  38.363370 -10.495864   \n",
       "681     15      33      40  ...  42.980693   2.980693  37.550114  -7.777201   \n",
       "682     17      37      41  ...  39.747938  -1.252062  34.468003 -12.231948   \n",
       "683     17      28      52  ...  37.169797 -14.830203  32.644130   0.201339   \n",
       "\n",
       "     ppda_coef  oppda_coef  deep  deep_allowed     xpts  xpts_diff  \n",
       "0     5.683535   16.367593   489           114  94.0813     0.0813  \n",
       "1    10.209085   12.929510   351           153  81.7489   -10.2511  \n",
       "2     8.982028    9.237091   197           123  73.1353    -4.8647  \n",
       "3     8.709827    7.870225   203           172  63.7068   -13.2932  \n",
       "4     8.276148    9.477805   305           168  67.3867    -8.6133  \n",
       "..         ...         ...   ...           ...      ...        ...  \n",
       "679  12.838079   10.562327   175           206  38.6587     5.6587  \n",
       "680  11.199502   10.806357   124           206  36.5424     5.5424  \n",
       "681  11.949903   10.080858   103           215  36.3363     5.3363  \n",
       "682  14.666049    9.192768   150           270  29.2413    -1.7587  \n",
       "683  12.830908    9.464581   153           215  39.2364    12.2364  \n",
       "\n",
       "[684 rows x 24 columns]"
      ]
     },
     "execution_count": 43,
     "metadata": {},
     "output_type": "execute_result"
    }
   ],
   "source": [
    "raw_data_overview = pd.read_csv('data/understat.com.csv')\n",
    "raw_data_overview"
   ]
  },
  {
   "cell_type": "markdown",
   "metadata": {
    "id": "egT8OiKtqWJC"
   },
   "source": [
    "#### Dữ liệu có bao nhiêu hàng, bao nhiêu cột?\n"
   ]
  },
  {
   "cell_type": "markdown",
   "metadata": {
    "id": "ejFYGDhksMG_"
   },
   "source": [
    "Tiếp theo, chúng ta tính toán số lượng dòng và cột và lưu vào biến 'num_cols_overview' và 'num_rows_overview'"
   ]
  },
  {
   "cell_type": "code",
   "execution_count": 44,
   "metadata": {
    "colab": {
     "base_uri": "https://localhost:8080/"
    },
    "id": "DZmVuNXCriRi",
    "outputId": "5807298d-ee3a-4598-f444-55a5c78b4c12"
   },
   "outputs": [
    {
     "name": "stdout",
     "output_type": "stream",
     "text": [
      "Số dòng: 684\n",
      "Số cột: 24\n"
     ]
    }
   ],
   "source": [
    "num_rows_overview, num_cols_overview =raw_data_overview.shape\n",
    "print(f'Số dòng: {num_rows_overview}')\n",
    "print(f'Số cột: {num_cols_overview}')"
   ]
  },
  {
   "cell_type": "markdown",
   "metadata": {
    "id": "b55WKBA1tNUX"
   },
   "source": [
    "#### Ý nghĩa của các dòng dữ liệu\n"
   ]
  },
  {
   "cell_type": "markdown",
   "metadata": {
    "id": "queAHUBMuhDG"
   },
   "source": [
    "\n",
    "\n",
    "Mỗi dòng đại diện cho một đội bóng trong một mùa giải cụ thể của một giải đấu. Dữ liệu dòng bao gồm các thông tin về năm, tên đội, xếp hạng, số trận đã đấu, số trận thắng, hòa, thua, tổng số bàn thắng ghi được và số bàn thua phải nhận,..."
   ]
  },
  {
   "cell_type": "markdown",
   "metadata": {
    "id": "iA-vG8UCVZVj"
   },
   "source": [
    "#### Dữ liệu các dòng có bị lặp không?"
   ]
  },
  {
   "cell_type": "markdown",
   "metadata": {
    "id": "h4S3DBFFsnGl"
   },
   "source": [
    "Tiếp theo, tính toán số lượng dòng có lặp không và lưu vào biến 'duplicated_rows_overview'"
   ]
  },
  {
   "cell_type": "code",
   "execution_count": 45,
   "metadata": {
    "colab": {
     "base_uri": "https://localhost:8080/"
    },
    "id": "WY_vv_D7sT3F",
    "outputId": "7ffa85f8-4589-4127-beba-2c73f61d5094"
   },
   "outputs": [
    {
     "name": "stdout",
     "output_type": "stream",
     "text": [
      "Không có dòng bị lặp trong dữ liệu.\n"
     ]
    }
   ],
   "source": [
    "duplicated_rows_overview = raw_data_overview[raw_data_overview.duplicated()]\n",
    "if duplicated_rows_overview.empty:\n",
    "    print(\"Không có dòng bị lặp trong dữ liệu.\")\n",
    "else:\n",
    "    print(\"Có dòng bị lặp trong dữ liệu.\")"
   ]
  },
  {
   "cell_type": "markdown",
   "metadata": {
    "id": "kog6sfCTQjwI"
   },
   "source": [
    "Như vậy, giữa mỗi dòng không có dự liệu nào bị lặp"
   ]
  },
  {
   "cell_type": "markdown",
   "metadata": {
    "id": "sziz4Ka5Vacb"
   },
   "source": [
    "#### Ý nghĩa của các cột dữ liệu"
   ]
  },
  {
   "cell_type": "markdown",
   "metadata": {
    "id": "9eve9Os1umiv"
   },
   "source": [
    "- league: Tên giải đấu (ví dụ: La Liga, Bundesliga).\n",
    "\n",
    "- year: Năm diễn ra mùa giải.\n",
    "\n",
    "- position: Vị trí xếp hạng cuối cùng của đội trong mùa giải.\n",
    "\n",
    "- team: Tên đội bóng.\n",
    "\n",
    "- matches: Số trận đấu đã chơi.\n",
    "\n",
    "- wins: Số trận thắng.\n",
    "\n",
    "- draws: Số trận hòa.\n",
    "\n",
    "- loses: Số trận thua.\n",
    "\n",
    "- scored: Tổng số bàn thắng ghi được.\n",
    "\n",
    "- missed: Tổng số bàn thua.\n",
    "\n",
    "- pts: Tổng điểm (thắng 3 điểm, hòa 1 điểm, thua 0 điểm).\n",
    "\n",
    "- xG: Tổng số bàn thắng kỳ vọng (Expected Goals).\n",
    "\n",
    "- xG_diff: Hiệu số bàn thắng kỳ vọng so với thực tế.\n",
    "\n",
    "- npxG: Tổng số bàn thắng kỳ vọng không tính phạt đền (Non-Penalty Expected Goals).\n",
    "\n",
    "- xGA: Tổng số bàn thua kỳ vọng (Expected Goals Against).\n",
    "\n",
    "- xGA_diff: Hiệu số bàn thua kỳ vọng so với thực tế.\n",
    "\n",
    "- npxGA: Tổng số bàn thua kỳ vọng không tính phạt đền.\n",
    "\n",
    "- npxGD: Hiệu số bàn thắng kỳ vọng không tính phạt đền (npxG - npxGA).\n",
    "\n",
    "- ppda_coef: Chỉ số PPDA (Passes Allowed Per Defensive Action) - đo lường cường độ pressing của đội.\n",
    "\n",
    "- oppda_coef: Chỉ số pressing của đối thủ (Opponent PPDA).\n",
    "\n",
    "- deep: Tổng số pha tấn công sâu (đưa bóng vào khu vực 20m gần khung thành đối phương).\n",
    "\n",
    "- deep_allowed: Số pha tấn công sâu mà đội phải chống lại.\n",
    "\n",
    "- xpts: Số điểm kỳ vọng dựa trên bàn thắng và bàn thua kỳ vọng.\n",
    "\n",
    "- xpts_diff: Chênh lệch giữa số điểm kỳ vọng và số điểm thực tế."
   ]
  },
  {
   "cell_type": "markdown",
   "metadata": {
    "id": "-grtGCS6v5Tp"
   },
   "source": [
    "#### Kiểu dữ liệu của từng cột"
   ]
  },
  {
   "cell_type": "code",
   "execution_count": 46,
   "metadata": {
    "colab": {
     "base_uri": "https://localhost:8080/",
     "height": 836
    },
    "id": "RC6Ij5Acv8gF",
    "outputId": "c7fbe952-e358-4023-ddb5-fd3448576ec3"
   },
   "outputs": [
    {
     "data": {
      "text/plain": [
       "league           object\n",
       "year              int64\n",
       "position          int64\n",
       "team             object\n",
       "matches           int64\n",
       "wins              int64\n",
       "draws             int64\n",
       "loses             int64\n",
       "scored            int64\n",
       "missed            int64\n",
       "pts               int64\n",
       "xG              float64\n",
       "xG_diff         float64\n",
       "npxG            float64\n",
       "xGA             float64\n",
       "xGA_diff        float64\n",
       "npxGA           float64\n",
       "npxGD           float64\n",
       "ppda_coef       float64\n",
       "oppda_coef      float64\n",
       "deep              int64\n",
       "deep_allowed      int64\n",
       "xpts            float64\n",
       "xpts_diff       float64\n",
       "dtype: object"
      ]
     },
     "execution_count": 46,
     "metadata": {},
     "output_type": "execute_result"
    }
   ],
   "source": [
    "raw_data_overview.dtypes"
   ]
  },
  {
   "cell_type": "markdown",
   "metadata": {
    "id": "ZImyiE2z_BTX"
   },
   "source": [
    "#### Chuẩn hóa kiểu dữ liệu nếu chưa phù hợp"
   ]
  },
  {
   "cell_type": "markdown",
   "metadata": {
    "id": "-ZANYMLexpiK"
   },
   "source": [
    "Nhận thấy rằng, 'Year' có kiểu dữ liệu số, tuy nhiên nó thể hiện thời gian thay vì một số. Do đó, ta sẽ chuyển đổi nó thành kiểu Object để thể hiện rõ ràng hơn"
   ]
  },
  {
   "cell_type": "code",
   "execution_count": 47,
   "metadata": {
    "colab": {
     "base_uri": "https://localhost:8080/",
     "height": 836
    },
    "id": "nHs5S241yMBa",
    "outputId": "ecc98498-3ca1-4208-ba62-f48a3e7d4f6c"
   },
   "outputs": [
    {
     "data": {
      "text/plain": [
       "league           object\n",
       "year             object\n",
       "position          int64\n",
       "team             object\n",
       "matches           int64\n",
       "wins              int64\n",
       "draws             int64\n",
       "loses             int64\n",
       "scored            int64\n",
       "missed            int64\n",
       "pts               int64\n",
       "xG              float64\n",
       "xG_diff         float64\n",
       "npxG            float64\n",
       "xGA             float64\n",
       "xGA_diff        float64\n",
       "npxGA           float64\n",
       "npxGD           float64\n",
       "ppda_coef       float64\n",
       "oppda_coef      float64\n",
       "deep              int64\n",
       "deep_allowed      int64\n",
       "xpts            float64\n",
       "xpts_diff       float64\n",
       "dtype: object"
      ]
     },
     "execution_count": 47,
     "metadata": {},
     "output_type": "execute_result"
    }
   ],
   "source": [
    "raw_data_overview['year'] = raw_data_overview['year'].astype('object')\n",
    "raw_data_overview.dtypes"
   ]
  },
  {
   "cell_type": "markdown",
   "metadata": {
    "id": "kncwYvJOSYeG"
   },
   "source": [
    "#### Với các cột dữ liệu không phải dạng số, các giá trị được phân bổ như thế nào\n",
    "\n",
    "Thực hiện thống kê và lưu vào một dataframe với các dòng là đại diện cho các giá trị như sau:\n",
    "- Tỉ lệ % (từ 0 đến 100) các giá trị thiếu (missing_ratio).\n",
    "- Số lượng các giá trị khác nhau (không xét giá trị thiếu) (num_values).\n",
    "- Tỉ lệ % (từ 0 đến 100) của mỗi giá trị được sort theo tỉ lệ % giảm dần (không xét giá trị thiếu, tỉ lệ là tỉ lệ so với số lượng các giá trị không thiếu): dùng dictionary để lưu, key là giá trị, value là tỉ lệ % (value_ratios)."
   ]
  },
  {
   "cell_type": "code",
   "execution_count": 48,
   "metadata": {
    "colab": {
     "base_uri": "https://localhost:8080/",
     "height": 143
    },
    "id": "AncQDoL7TA_f",
    "outputId": "16fe7504-5cb9-4da2-a50c-55b7733350f2"
   },
   "outputs": [
    {
     "data": {
      "text/html": [
       "<div>\n",
       "<style scoped>\n",
       "    .dataframe tbody tr th:only-of-type {\n",
       "        vertical-align: middle;\n",
       "    }\n",
       "\n",
       "    .dataframe tbody tr th {\n",
       "        vertical-align: top;\n",
       "    }\n",
       "\n",
       "    .dataframe thead th {\n",
       "        text-align: right;\n",
       "    }\n",
       "</style>\n",
       "<table border=\"1\" class=\"dataframe\">\n",
       "  <thead>\n",
       "    <tr style=\"text-align: right;\">\n",
       "      <th></th>\n",
       "      <th>column</th>\n",
       "      <th>missing_ratio</th>\n",
       "      <th>num_values</th>\n",
       "      <th>value_ratios</th>\n",
       "    </tr>\n",
       "  </thead>\n",
       "  <tbody>\n",
       "    <tr>\n",
       "      <th>0</th>\n",
       "      <td>league</td>\n",
       "      <td>0.0</td>\n",
       "      <td>6</td>\n",
       "      <td>{'La_liga': 17.5, 'EPL': 17.5, 'Serie_A': 17.5...</td>\n",
       "    </tr>\n",
       "    <tr>\n",
       "      <th>1</th>\n",
       "      <td>year</td>\n",
       "      <td>0.0</td>\n",
       "      <td>6</td>\n",
       "      <td>{2014: 16.7, 2015: 16.7, 2016: 16.7, 2017: 16....</td>\n",
       "    </tr>\n",
       "    <tr>\n",
       "      <th>2</th>\n",
       "      <td>team</td>\n",
       "      <td>0.0</td>\n",
       "      <td>168</td>\n",
       "      <td>{'Barcelona': 0.9, 'Bayern Munich': 0.9, 'Sass...</td>\n",
       "    </tr>\n",
       "  </tbody>\n",
       "</table>\n",
       "</div>"
      ],
      "text/plain": [
       "   column  missing_ratio  num_values  \\\n",
       "0  league            0.0           6   \n",
       "1    year            0.0           6   \n",
       "2    team            0.0         168   \n",
       "\n",
       "                                        value_ratios  \n",
       "0  {'La_liga': 17.5, 'EPL': 17.5, 'Serie_A': 17.5...  \n",
       "1  {2014: 16.7, 2015: 16.7, 2016: 16.7, 2017: 16....  \n",
       "2  {'Barcelona': 0.9, 'Bayern Munich': 0.9, 'Sass...  "
      ]
     },
     "execution_count": 48,
     "metadata": {},
     "output_type": "execute_result"
    }
   ],
   "source": [
    "def categorical_analysis(df: pd.DataFrame) -> pd.DataFrame:\n",
    "    cat_cols = df.select_dtypes(exclude=['number']).columns\n",
    "    analysis_results = []\n",
    "\n",
    "    for col in cat_cols:\n",
    "        missing_ratio = round(df[col].isna().sum() / df.shape[0] * 100, 1)\n",
    "        num_values = df[col].nunique()\n",
    "        value_counts = df[col].value_counts(normalize=True)\n",
    "        value_ratios = {val: round(perc * 100, 1) for val, perc in value_counts.items()}\n",
    "\n",
    "        analysis_results.append({\n",
    "            'column': col,\n",
    "            'missing_ratio': missing_ratio,\n",
    "            'num_values': num_values,\n",
    "            'value_ratios': value_ratios,\n",
    "        })\n",
    "\n",
    "    return pd.DataFrame(analysis_results)\n",
    "\n",
    "cat_col_info_overview = categorical_analysis(raw_data_overview)\n",
    "cat_col_info_overview"
   ]
  },
  {
   "cell_type": "markdown",
   "metadata": {
    "id": "t_zkE-9EyUSw"
   },
   "source": [
    "#### Với các cột có kiểu dữ liệu số, các giá trị được phân bổ như thế nào"
   ]
  },
  {
   "cell_type": "markdown",
   "metadata": {
    "id": "yAPIO_xZyd_I"
   },
   "source": [
    "Đối với các cột dữ liệu số, ta tính toán\n",
    "* Tỉ lệ các giá trị bị thiếu\n",
    "* Giá trị nhỏ nhất\n",
    "* Giá trị lớn nhất\n",
    "* Trung bình\n",
    "* Các Q1(25%), Q3(75%)\n",
    "\n",
    "Sau đó lưu vào DataFrame num_col_info, trong đó:\n",
    "* Tên các cột là cột có kiểu dữ liệu số\n",
    "* Tên các dòng là missing_ratio, min, lower_quartile, median, upper_quartile, max"
   ]
  },
  {
   "cell_type": "code",
   "execution_count": 49,
   "metadata": {
    "colab": {
     "base_uri": "https://localhost:8080/",
     "height": 286
    },
    "id": "xc1YRFNNzC0z",
    "outputId": "1152aaee-70c3-4bd8-b629-9dec76d274fc"
   },
   "outputs": [
    {
     "data": {
      "text/html": [
       "<div>\n",
       "<style scoped>\n",
       "    .dataframe tbody tr th:only-of-type {\n",
       "        vertical-align: middle;\n",
       "    }\n",
       "\n",
       "    .dataframe tbody tr th {\n",
       "        vertical-align: top;\n",
       "    }\n",
       "\n",
       "    .dataframe thead th {\n",
       "        text-align: right;\n",
       "    }\n",
       "</style>\n",
       "<table border=\"1\" class=\"dataframe\">\n",
       "  <thead>\n",
       "    <tr style=\"text-align: right;\">\n",
       "      <th></th>\n",
       "      <th>position</th>\n",
       "      <th>matches</th>\n",
       "      <th>wins</th>\n",
       "      <th>draws</th>\n",
       "      <th>loses</th>\n",
       "      <th>scored</th>\n",
       "      <th>missed</th>\n",
       "      <th>pts</th>\n",
       "      <th>xG</th>\n",
       "      <th>xG_diff</th>\n",
       "      <th>...</th>\n",
       "      <th>xGA</th>\n",
       "      <th>xGA_diff</th>\n",
       "      <th>npxGA</th>\n",
       "      <th>npxGD</th>\n",
       "      <th>ppda_coef</th>\n",
       "      <th>oppda_coef</th>\n",
       "      <th>deep</th>\n",
       "      <th>deep_allowed</th>\n",
       "      <th>xpts</th>\n",
       "      <th>xpts_diff</th>\n",
       "    </tr>\n",
       "  </thead>\n",
       "  <tbody>\n",
       "    <tr>\n",
       "      <th>missing_ratio</th>\n",
       "      <td>0.0</td>\n",
       "      <td>0.0</td>\n",
       "      <td>0.0</td>\n",
       "      <td>0.0</td>\n",
       "      <td>0.0</td>\n",
       "      <td>0.0</td>\n",
       "      <td>0.0</td>\n",
       "      <td>0.0</td>\n",
       "      <td>0.0</td>\n",
       "      <td>0.0</td>\n",
       "      <td>...</td>\n",
       "      <td>0.0</td>\n",
       "      <td>0.0</td>\n",
       "      <td>0.0</td>\n",
       "      <td>0.0</td>\n",
       "      <td>0.0</td>\n",
       "      <td>0.0</td>\n",
       "      <td>0.0</td>\n",
       "      <td>0.0</td>\n",
       "      <td>0.0</td>\n",
       "      <td>0.0</td>\n",
       "    </tr>\n",
       "    <tr>\n",
       "      <th>min</th>\n",
       "      <td>1.0</td>\n",
       "      <td>27.0</td>\n",
       "      <td>2.0</td>\n",
       "      <td>2.0</td>\n",
       "      <td>1.0</td>\n",
       "      <td>13.0</td>\n",
       "      <td>15.0</td>\n",
       "      <td>13.0</td>\n",
       "      <td>15.1</td>\n",
       "      <td>-31.0</td>\n",
       "      <td>...</td>\n",
       "      <td>16.8</td>\n",
       "      <td>-29.2</td>\n",
       "      <td>16.1</td>\n",
       "      <td>-42.2</td>\n",
       "      <td>5.7</td>\n",
       "      <td>4.4</td>\n",
       "      <td>76.0</td>\n",
       "      <td>83.0</td>\n",
       "      <td>17.9</td>\n",
       "      <td>-24.7</td>\n",
       "    </tr>\n",
       "    <tr>\n",
       "      <th>lower_quartile</th>\n",
       "      <td>5.0</td>\n",
       "      <td>34.0</td>\n",
       "      <td>9.0</td>\n",
       "      <td>7.0</td>\n",
       "      <td>9.0</td>\n",
       "      <td>36.0</td>\n",
       "      <td>38.0</td>\n",
       "      <td>38.0</td>\n",
       "      <td>37.1</td>\n",
       "      <td>-5.0</td>\n",
       "      <td>...</td>\n",
       "      <td>38.9</td>\n",
       "      <td>-5.7</td>\n",
       "      <td>35.5</td>\n",
       "      <td>-13.3</td>\n",
       "      <td>9.1</td>\n",
       "      <td>8.8</td>\n",
       "      <td>151.8</td>\n",
       "      <td>170.0</td>\n",
       "      <td>39.5</td>\n",
       "      <td>-4.5</td>\n",
       "    </tr>\n",
       "    <tr>\n",
       "      <th>median</th>\n",
       "      <td>10.0</td>\n",
       "      <td>38.0</td>\n",
       "      <td>12.0</td>\n",
       "      <td>9.0</td>\n",
       "      <td>14.0</td>\n",
       "      <td>45.0</td>\n",
       "      <td>48.0</td>\n",
       "      <td>46.0</td>\n",
       "      <td>44.7</td>\n",
       "      <td>-0.6</td>\n",
       "      <td>...</td>\n",
       "      <td>47.3</td>\n",
       "      <td>-0.9</td>\n",
       "      <td>43.0</td>\n",
       "      <td>-3.1</td>\n",
       "      <td>10.6</td>\n",
       "      <td>10.3</td>\n",
       "      <td>188.0</td>\n",
       "      <td>205.0</td>\n",
       "      <td>47.1</td>\n",
       "      <td>0.1</td>\n",
       "    </tr>\n",
       "    <tr>\n",
       "      <th>upper_quartile</th>\n",
       "      <td>15.0</td>\n",
       "      <td>38.0</td>\n",
       "      <td>16.0</td>\n",
       "      <td>11.0</td>\n",
       "      <td>17.0</td>\n",
       "      <td>56.0</td>\n",
       "      <td>58.0</td>\n",
       "      <td>59.2</td>\n",
       "      <td>53.9</td>\n",
       "      <td>3.6</td>\n",
       "      <td>...</td>\n",
       "      <td>54.8</td>\n",
       "      <td>3.4</td>\n",
       "      <td>50.3</td>\n",
       "      <td>9.7</td>\n",
       "      <td>12.4</td>\n",
       "      <td>12.2</td>\n",
       "      <td>242.0</td>\n",
       "      <td>246.2</td>\n",
       "      <td>56.9</td>\n",
       "      <td>4.9</td>\n",
       "    </tr>\n",
       "    <tr>\n",
       "      <th>max</th>\n",
       "      <td>20.0</td>\n",
       "      <td>38.0</td>\n",
       "      <td>32.0</td>\n",
       "      <td>18.0</td>\n",
       "      <td>29.0</td>\n",
       "      <td>118.0</td>\n",
       "      <td>94.0</td>\n",
       "      <td>100.0</td>\n",
       "      <td>113.6</td>\n",
       "      <td>18.1</td>\n",
       "      <td>...</td>\n",
       "      <td>88.4</td>\n",
       "      <td>16.4</td>\n",
       "      <td>78.5</td>\n",
       "      <td>73.0</td>\n",
       "      <td>21.9</td>\n",
       "      <td>30.5</td>\n",
       "      <td>582.0</td>\n",
       "      <td>375.0</td>\n",
       "      <td>94.4</td>\n",
       "      <td>23.0</td>\n",
       "    </tr>\n",
       "  </tbody>\n",
       "</table>\n",
       "<p>6 rows × 21 columns</p>\n",
       "</div>"
      ],
      "text/plain": [
       "                position  matches  wins  draws  loses  scored  missed    pts  \\\n",
       "missing_ratio        0.0      0.0   0.0    0.0    0.0     0.0     0.0    0.0   \n",
       "min                  1.0     27.0   2.0    2.0    1.0    13.0    15.0   13.0   \n",
       "lower_quartile       5.0     34.0   9.0    7.0    9.0    36.0    38.0   38.0   \n",
       "median              10.0     38.0  12.0    9.0   14.0    45.0    48.0   46.0   \n",
       "upper_quartile      15.0     38.0  16.0   11.0   17.0    56.0    58.0   59.2   \n",
       "max                 20.0     38.0  32.0   18.0   29.0   118.0    94.0  100.0   \n",
       "\n",
       "                   xG  xG_diff  ...   xGA  xGA_diff  npxGA  npxGD  ppda_coef  \\\n",
       "missing_ratio     0.0      0.0  ...   0.0       0.0    0.0    0.0        0.0   \n",
       "min              15.1    -31.0  ...  16.8     -29.2   16.1  -42.2        5.7   \n",
       "lower_quartile   37.1     -5.0  ...  38.9      -5.7   35.5  -13.3        9.1   \n",
       "median           44.7     -0.6  ...  47.3      -0.9   43.0   -3.1       10.6   \n",
       "upper_quartile   53.9      3.6  ...  54.8       3.4   50.3    9.7       12.4   \n",
       "max             113.6     18.1  ...  88.4      16.4   78.5   73.0       21.9   \n",
       "\n",
       "                oppda_coef   deep  deep_allowed  xpts  xpts_diff  \n",
       "missing_ratio          0.0    0.0           0.0   0.0        0.0  \n",
       "min                    4.4   76.0          83.0  17.9      -24.7  \n",
       "lower_quartile         8.8  151.8         170.0  39.5       -4.5  \n",
       "median                10.3  188.0         205.0  47.1        0.1  \n",
       "upper_quartile        12.2  242.0         246.2  56.9        4.9  \n",
       "max                   30.5  582.0         375.0  94.4       23.0  \n",
       "\n",
       "[6 rows x 21 columns]"
      ]
     },
     "execution_count": 49,
     "metadata": {},
     "output_type": "execute_result"
    }
   ],
   "source": [
    "def missing_ratio(s: pd.Series) -> float:\n",
    "    return round(s.isna().sum() / s.shape[0] * 100, 1)\n",
    "\n",
    "def lower_quartile(s: pd.Series) -> float:\n",
    "    return round(s.quantile(0.25), 1)\n",
    "\n",
    "def median(s: pd.Series) -> float:\n",
    "    return round(s.median(), 1)\n",
    "\n",
    "def upper_quartile(s: pd.Series) -> float:\n",
    "    return round(s.quantile(0.75), 1)\n",
    "\n",
    "num_col_info_overview = raw_data_overview.select_dtypes(include='number').agg([missing_ratio, \"min\", lower_quartile, median, upper_quartile, \"max\"]).round(1)\n",
    "num_col_info_overview"
   ]
  },
  {
   "cell_type": "markdown",
   "metadata": {
    "id": "7adPCSZXWWzY"
   },
   "source": [
    "### A.2.Xử lý dữ liệu thiếu\n"
   ]
  },
  {
   "cell_type": "markdown",
   "metadata": {
    "id": "rLI94OB67ghR"
   },
   "source": [
    "#### Thống kế tỉ lệ dữ liệu bị thiếu"
   ]
  },
  {
   "cell_type": "code",
   "execution_count": 50,
   "metadata": {
    "colab": {
     "base_uri": "https://localhost:8080/"
    },
    "id": "q2Q1pJGZ6HmO",
    "outputId": "02f5c95f-5874-4a56-be94-a552832b223e"
   },
   "outputs": [
    {
     "data": {
      "text/plain": [
       "{'position': 0.0,\n",
       " 'matches': 0.0,\n",
       " 'wins': 0.0,\n",
       " 'draws': 0.0,\n",
       " 'loses': 0.0,\n",
       " 'scored': 0.0,\n",
       " 'missed': 0.0,\n",
       " 'pts': 0.0,\n",
       " 'xG': 0.0,\n",
       " 'xG_diff': 0.0,\n",
       " 'npxG': 0.0,\n",
       " 'xGA': 0.0,\n",
       " 'xGA_diff': 0.0,\n",
       " 'npxGA': 0.0,\n",
       " 'npxGD': 0.0,\n",
       " 'ppda_coef': 0.0,\n",
       " 'oppda_coef': 0.0,\n",
       " 'deep': 0.0,\n",
       " 'deep_allowed': 0.0,\n",
       " 'xpts': 0.0,\n",
       " 'xpts_diff': 0.0}"
      ]
     },
     "execution_count": 50,
     "metadata": {},
     "output_type": "execute_result"
    }
   ],
   "source": [
    "dict(num_col_info_overview.iloc[0])"
   ]
  },
  {
   "cell_type": "markdown",
   "metadata": {
    "id": "sdmOCjPi6TSI"
   },
   "source": [
    "Nếu các dữ liệu có tỉ lệ thiếu quá nhiều sẽ dẫn đến thiếu nhiều và không sử dụng được nhiều, nên ta có thể xóa nó\n",
    "\n",
    "Nếu dữ liệu bị thiếu lớn hơn 75%, ta sẽ xóa cột đó và cập nhật lại Dataframe"
   ]
  },
  {
   "cell_type": "markdown",
   "metadata": {
    "id": "d3hcL2Vm7knV"
   },
   "source": [
    "#### Xóa cột có tỉ lệ thiếu trên 75%"
   ]
  },
  {
   "cell_type": "code",
   "execution_count": 51,
   "metadata": {
    "colab": {
     "base_uri": "https://localhost:8080/"
    },
    "id": "_OZ5q0d360H7",
    "outputId": "2f83f2ef-c0ce-4e73-f3f5-06d677807e8d"
   },
   "outputs": [
    {
     "name": "stdout",
     "output_type": "stream",
     "text": [
      "Không xóa cột nào\n"
     ]
    }
   ],
   "source": [
    "def drop_missing_features(df: pd.DataFrame, missing_lst: dict = dict(num_col_info_overview.iloc[0]), threshold: float = 75.0) -> pd.DataFrame:\n",
    "    copy = df.copy()\n",
    "    cols = []\n",
    "    for key, value in missing_lst.items():\n",
    "        if value > threshold:\n",
    "            cols.append(key)\n",
    "    if len(cols) > 0:\n",
    "        copy.drop(cols, axis=1, inplace=True)\n",
    "        print(f\"Xóa cột: {cols}\")\n",
    "    else:\n",
    "        print(\"Không xóa cột nào\")\n",
    "    return copy\n",
    "raw_data_overview = drop_missing_features(raw_data_overview, dict(num_col_info_overview.iloc[0]))"
   ]
  },
  {
   "cell_type": "markdown",
   "metadata": {
    "id": "o5dbc_ggU51s"
   },
   "source": [
    "Ta thấy rằng, sau khi check, không có cột nào bị thiếu dữ liệu"
   ]
  },
  {
   "cell_type": "markdown",
   "metadata": {
    "id": "fyvC30VPINu9"
   },
   "source": [
    "### A.3. Xử lý dữ liệu bị nhiều bằng dùng IQR"
   ]
  },
  {
   "cell_type": "markdown",
   "metadata": {
    "id": "McOWuE1YIjZv"
   },
   "source": [
    "Phương pháp IQR (Interquartile Range) là một cách phổ biến để xử lý dữ liệu bị nhiễu bằng cách loại bỏ các giá trị nằm ngoài khoảng từ\n",
    "𝑄\n",
    "1\n",
    "−\n",
    "1.5\n",
    "×\n",
    "𝐼\n",
    "𝑄\n",
    "𝑅\n",
    "Q1−1.5×IQR đến\n",
    "𝑄\n",
    "3\n",
    "+\n",
    "1.5\n",
    "×\n",
    "𝐼\n",
    "𝑄\n",
    "𝑅\n",
    "Q3+1.5×IQR. Tuy nhiên, phương pháp này có những hạn chế khi áp dụng cho dữ liệu trong file này do:\n",
    "* Phương pháp IQR giả định rằng dữ liệu có sự phân bố ổn định, nhưng trong dữ liệu bóng đá, các chỉ số như bàn thắng kỳ vọng (xG), bàn thua kỳ vọng (xGA) hay số điểm thường không tuân theo phân phối chuẩn.\n",
    "* Một số đội bóng hoặc trận đấu có hiệu suất vượt trội (ví dụ: Barcelona ghi 110 bàn trong một mùa giải) sẽ được xem như nhiễu khi sử dụng IQR, mặc dù thực tế chúng phản ánh đúng bản chất của đội bóng.\n",
    "* Một đội bóng ghi nhiều bàn hơn dự kiến (xG vượt xa giá trị thực tế) hoặc để thua ít hơn kỳ vọng có thể phản ánh chiến thuật hoặc phong độ đặc biệt. Đây không phải là nhiễu mà là đặc điểm cần giữ lại để phân tích.\n",
    "* Trận đấu với xG cao có thể là do đối thủ yếu hoặc lối chơi tấn công mạnh mẽ.\n",
    "* Một đội có nhiều điểm vượt xa kỳ vọng (xpts) có thể nhờ vào yếu tố may mắn hoặc chiến thuật hợp lý.\n",
    "\n",
    "**Loại bỏ dữ liệu như vậy sẽ làm mất thông tin quan trọng về các đội hoặc trận đấu có hiệu suất đặc biệt. Các yếu tố ngữ cảnh này không thể hiện qua IQR và việc loại bỏ \"nhiễu\" sẽ làm giảm độ chính xác của phân tích.**"
   ]
  },
  {
   "cell_type": "markdown",
   "metadata": {
    "id": "eyh16vvQGnn0"
   },
   "source": [
    "## B. Giảm chiều dữ liệu"
   ]
  },
  {
   "cell_type": "markdown",
   "metadata": {
    "id": "EGDGQ0fMNic4"
   },
   "source": [
    "#### Vẽ correlation matrix"
   ]
  },
  {
   "cell_type": "code",
   "execution_count": 52,
   "metadata": {
    "colab": {
     "base_uri": "https://localhost:8080/",
     "height": 1000
    },
    "id": "OxuVnq6TG6Gx",
    "outputId": "caf052d5-adca-43ac-a6bf-e1f7afb3755c"
   },
   "outputs": [
    {
     "data": {
      "image/png": "[encoded data removed]",
      "text/plain": [
       "<Figure size 1080x1080 with 2 Axes>"
      ]
     },
     "metadata": {
      "needs_background": "light"
     },
     "output_type": "display_data"
    }
   ],
   "source": [
    "numerical_data_overview = raw_data_overview.select_dtypes(include=['number'])\n",
    "correlation_matrix_overview = numerical_data_overview.corr()\n",
    "\n",
    "plt.figure(figsize=(15,15))\n",
    "sns.heatmap(correlation_matrix_overview, annot=True, cmap='coolwarm', fmt=\".2f\")\n",
    "plt.title('Correlation Matrix')\n",
    "plt.show()"
   ]
  },
  {
   "cell_type": "markdown",
   "metadata": {
    "id": "WQm7j1NKNqx0"
   },
   "source": [
    "####Sử dụng ma trận tương quan (Correlation Matrix) để xem xét độ tương quan giữa các biến:\n",
    "  - Loại bỏ các biến có độ tương quan cao (vì có thể gây trùng lặp thông tin).\n",
    "  - Giữ lại các biến quan trọng nhất để giảm độ phức tạp và tăng hiệu quả phân tích."
   ]
  },
  {
   "cell_type": "markdown",
   "metadata": {
    "id": "LcEuQq1wN46L"
   },
   "source": [
    "#### Xác định các cặp dữ liệu có độ tương quan cao hơn 0.8"
   ]
  },
  {
   "cell_type": "code",
   "execution_count": 53,
   "metadata": {
    "colab": {
     "base_uri": "https://localhost:8080/"
    },
    "id": "39lVvemuHbsS",
    "outputId": "c3a9c838-3267-4fe4-9b1a-a4fa12aac2db"
   },
   "outputs": [
    {
     "name": "stdout",
     "output_type": "stream",
     "text": [
      "Các cặp dữ liệu có độ tương quan cao: [('position', 'wins'), ('position', 'loses'), ('position', 'pts'), ('position', 'npxGD'), ('wins', 'scored'), ('wins', 'pts'), ('wins', 'xG'), ('wins', 'npxG'), ('wins', 'npxGD'), ('wins', 'xpts'), ('loses', 'missed'), ('loses', 'pts'), ('loses', 'npxGD'), ('scored', 'pts'), ('scored', 'xG'), ('scored', 'npxG'), ('scored', 'npxGD'), ('scored', 'deep'), ('scored', 'xpts'), ('missed', 'xGA'), ('missed', 'npxGA'), ('pts', 'xG'), ('pts', 'npxG'), ('pts', 'npxGD'), ('pts', 'xpts'), ('xG', 'npxG'), ('xG', 'npxGD'), ('xG', 'deep'), ('xG', 'xpts'), ('npxG', 'npxGD'), ('npxG', 'deep'), ('npxG', 'xpts'), ('xGA', 'npxGA'), ('npxGA', 'deep_allowed'), ('npxGD', 'xpts'), ('deep', 'xpts')]\n"
     ]
    }
   ],
   "source": [
    "threshold = 0.8\n",
    "\n",
    "highly_correlated = []\n",
    "for i in range(len(correlation_matrix_overview.columns)):\n",
    "    for j in range(i + 1, len(correlation_matrix_overview.columns)):\n",
    "        if abs(correlation_matrix_overview.iloc[i, j]) > threshold:\n",
    "            colname1 = correlation_matrix_overview.columns[i]\n",
    "            colname2 = correlation_matrix_overview.columns[j]\n",
    "            highly_correlated.append((colname1, colname2))\n",
    "\n",
    "print(\"Các cặp dữ liệu có độ tương quan cao:\", highly_correlated)"
   ]
  },
  {
   "cell_type": "markdown",
   "metadata": {
    "id": "tFWFCyC2J28w"
   },
   "source": [
    "**Giải thích**\n",
    "\n",
    "*   position ↔ wins: Vị trí của đội trong bảng xếp hạng có tương quan cao với số trận thắng. Đội thắng nhiều thường xếp ở vị trí cao.\n",
    "- position ↔ loses: Vị trí của đội có tương quan nghịch với số trận thua. Đội thua nhiều thường xếp ở vị trí thấp.\n",
    "\n",
    "- position ↔ pts: Vị trí có liên hệ chặt chẽ với số điểm (pts), vì điểm số quyết định thứ hạng của đội.\n",
    "\n",
    "- position ↔ npxGD: Hiệu số bàn thắng kỳ vọng không tính phạt đền (npxGD) thường cao đối với các đội xếp vị trí cao.\n",
    "\n",
    "- wins ↔ scored: Đội ghi nhiều bàn thắng hơn thường giành được nhiều chiến thắng hơn.\n",
    "\n",
    "- wins ↔ pts: Mỗi trận thắng mang lại 3 điểm, nên số trận thắng có liên hệ trực tiếp với điểm số.\n",
    "\n",
    "- wins ↔ xG / npxG: Số trận thắng cao thường đi đôi với chỉ số bàn thắng kỳ vọng lớn, vì các đội chơi hiệu quả thường tạo nhiều cơ hội.\n",
    "\n",
    "- wins ↔ npxGD: Hiệu số bàn thắng kỳ vọng cao thường dẫn đến nhiều chiến thắng hơn.\n",
    "\n",
    "- wins ↔ xpts: Điểm kỳ vọng (xpts) cũng phản ánh khả năng thắng trận của đội.\n",
    "\n",
    "- loses ↔ missed: Số trận thua cao thường đi kèm với số bàn thua thực tế lớn.\n",
    "\n",
    "- loses ↔ pts: Số trận thua nhiều thường dẫn đến điểm số thấp.\n",
    "\n",
    "- loses ↔ npxGD: Đội có hiệu số bàn thắng kỳ vọng thấp thường thua nhiều trận hơn.\n",
    "\n",
    "- scored ↔ pts: Đội ghi được nhiều bàn thắng hơn thường có số điểm cao hơn.\n",
    "\n",
    "- scored ↔ xG / npxG: Số bàn thắng ghi được thường phản ánh năng lực tấn công dựa trên bàn thắng kỳ vọng.\n",
    "\n",
    "- scored ↔ npxGD: Ghi nhiều bàn hơn giúp cải thiện hiệu số bàn thắng kỳ vọng.\n",
    "\n",
    "- scored ↔ deep: Số pha tấn công sâu thường dẫn đến số bàn thắng cao hơn.\n",
    "\n",
    "- scored ↔ xpts: Điểm kỳ vọng (xpts) cũng phản ánh khả năng ghi bàn và hiệu suất thi đấu.\n",
    "\n",
    "- missed ↔ xGA / npxGA: Số bàn thua thực tế thường liên quan chặt chẽ đến bàn thua kỳ vọng.\n",
    "\n",
    "- missed ↔ deep_allowed: Các đội bị tấn công sâu nhiều hơn thường để thủng lưới nhiều hơn.\n",
    "\n",
    "- xG ↔ npxG: Bàn thắng kỳ vọng (xG) thường liên quan trực tiếp đến bàn thắng kỳ vọng không tính phạt đền (npxG).\n",
    "\n",
    "- xG ↔ npxGD: Bàn thắng kỳ vọng ảnh hưởng đến hiệu số bàn thắng kỳ vọng.\n",
    "\n",
    "- xG ↔ deep / xpts: Cơ hội tấn công sâu và điểm kỳ vọng thường tăng cùng với bàn thắng kỳ vọng.\n",
    "\n",
    "- npxG ↔ npxGD / deep / xpts: Các chỉ số không tính phạt đền có liên hệ chặt chẽ với hiệu suất chung của đội.\n",
    "\n",
    "- npxGA ↔ deep_allowed: Bàn thua kỳ vọng không tính phạt đền tăng lên khi đội bị đối thủ tấn công sâu nhiều hơn.\n",
    "\n",
    "- npxGD ↔ xpts: Hiệu số bàn thắng kỳ vọng phản ánh khả năng đạt được điểm số kỳ vọng.\n",
    "\n",
    "- deep ↔ xpts: Đội tạo ra nhiều pha tấn công sâu thường đạt điểm số kỳ vọng cao hơn.\n"
   ]
  },
  {
   "cell_type": "markdown",
   "metadata": {
    "id": "TyNjGxJ36u-A"
   },
   "source": [
    "Dù cho chúng có độ tương quan khá cao và nhiều, **tuy nhiên ta xem xét tính khả thi giữa các cột và thấy rằng những mối tương quan cao giữa các cột không phải là lý do đủ mạnh để loại bỏ chúng**, vì:\n",
    "* Các cột trong dữ liệu không chỉ là số liệu, mà còn mang ý nghĩa chiến thuật, hiệu suất, và kết quả cụ thể trong bóng đá.\n",
    "* Mỗi cột đại diện cho một khía cạnh khác nhau của hiệu suất đội bóng, dù có tương quan với nhau. Loại bỏ cột có thể làm mất đi thông tin quan trọng và làm méo mó kết quả phân tích.\n",
    "* Mối quan hệ giữa các biến (dù tương quan cao) thường giúp khám phá các đặc điểm ẩn, xác nhận mô hình, hoặc kiểm tra giả thuyết.\n",
    "* Cặp tương quan không đồng nghĩa với dư thừa. Ví dụ: position ↔ wins, loses, pts, npxGD. position (thứ hạng) là tổng hợp nhiều yếu tố như điểm số (pts), số trận thắng (wins), số trận thua (loses), và hiệu số kỳ vọng (npxGD). Dù position liên quan chặt chẽ với các biến khác, nó là biến kết quả cuối cùng thường được dùng làm mục tiêu phân tích. Các yếu tố như wins hay pts có thể thay đổi mạnh giữa các đội bóng có cùng thứ hạng (ví dụ: đội A và đội B cùng hạng 3 nhưng hiệu số bàn thắng khác nhau)."
   ]
  },
  {
   "cell_type": "markdown",
   "metadata": {
    "id": "f6jcWQpVL7Nk"
   },
   "source": [
    "## C. Chuẩn hóa dữ liệu\n"
   ]
  },
  {
   "cell_type": "markdown",
   "metadata": {
    "id": "GrQeYQRE2Vo7"
   },
   "source": [
    "Trong bộ dữ liệu này, ta **không cần thực hiện scaling** vì những lý do sau:\n",
    "* Nếu chỉ muốn phân tích thống kê, tìm hiểu tương quan hoặc trực quan hóa dữ liệu, thì giữ nguyên thang đo thực tế sẽ giúp duy trì ý nghĩa ngữ cảnh.\n",
    "* Các đặc trưng như pts, xG, xGA, wins đều mang ý nghĩa thực tế trong bóng đá. Giá trị của chúng thể hiện trực tiếp hiệu suất của đội bóng và không cần phải chuẩn hóa để so sánh giữa các đội. Ví dụ: Số điểm (pts) thường dao động từ 0–100, trong khi số bàn thắng kỳ vọng (xG) có thể chỉ từ 0–3 trong một trận. Tuy nhiên, sự khác biệt về thang đo này không gây cản trở cho việc hiểu dữ liệu trong ngữ cảnh bóng đá.\n",
    "* Nếu thực hiện scaling, giá trị sau khi chuẩn hóa sẽ mất đi ý nghĩa thực tế. Ví dụ:\n",
    "pts = 90 (số điểm thực tế) → Nếu được chuẩn hóa thành 0.9 (dưới Min-Max Scaling), ý nghĩa trực tiếp sẽ bị mất, khó hiểu hơn.\n",
    "* Các đồ thị như histogram, scatter plot hay box plot thường trực tiếp phản ánh giá trị thực tế của các đặc trưng. Scaling có thể làm biến đổi dữ liệu, khiến kết quả trực quan hóa khó hiểu hoặc không phù hợp với ngữ cảnh.\n",
    "* Dữ liệu rời rạc hoặc tự nhiên, không bị chi phối bởi độ lớn giữa các cột.\n"
   ]
  },
  {
   "cell_type": "markdown",
   "metadata": {
    "id": "s5nKzdtzP9yu"
   },
   "source": [
    "##D. Lưu dữ liệu"
   ]
  },
  {
   "cell_type": "code",
   "execution_count": 54,
   "metadata": {
    "id": "GEzGBJTeQAvn"
   },
   "outputs": [],
   "source": [
    "raw_data_overview.to_csv('data/understat.com_preprocess.csv', index=False)"
   ]
  },
  {
   "cell_type": "markdown",
   "metadata": {
    "id": "Pl_47VdQLrwA"
   },
   "source": [
    "# TIỀN XỬ LÝ DỮ LIỆU TỪ FILE understat_per_game.csv\n"
   ]
  },
  {
   "cell_type": "markdown",
   "metadata": {
    "id": "TW9mwmeZLrwK"
   },
   "source": [
    "Đây là dữ liệu chi tiết theo từng trận đấu của một đội bóng, trong đó mỗi hàng đại diện cho một trận cụ thể."
   ]
  },
  {
   "cell_type": "markdown",
   "metadata": {
    "id": "m0LfTY_ZLrwK"
   },
   "source": [
    "## A. LÀM SẠCH DỮ LIỆU"
   ]
  },
  {
   "cell_type": "markdown",
   "metadata": {
    "id": "YRGsKkkMLrwK"
   },
   "source": [
    "### A.1. Khám phá dữ liệu"
   ]
  },
  {
   "cell_type": "markdown",
   "metadata": {
    "id": "diic1AaCLrwL"
   },
   "source": [
    "#### Đọc dữ liệu từ raw_data"
   ]
  },
  {
   "cell_type": "markdown",
   "metadata": {
    "id": "jpc09mfNLrwL"
   },
   "source": [
    "Đầu tiên, ta đọc 'understat_per_game.csv' để lưu trữ vào biến raw_data_details"
   ]
  },
  {
   "cell_type": "code",
   "execution_count": 55,
   "metadata": {
    "colab": {
     "base_uri": "https://localhost:8080/",
     "height": 530
    },
    "id": "u53jIdViLrwL",
    "outputId": "3ed8b1d2-5946-4b37-8db9-368624937624"
   },
   "outputs": [
    {
     "data": {
      "text/html": [
       "<div>\n",
       "<style scoped>\n",
       "    .dataframe tbody tr th:only-of-type {\n",
       "        vertical-align: middle;\n",
       "    }\n",
       "\n",
       "    .dataframe tbody tr th {\n",
       "        vertical-align: top;\n",
       "    }\n",
       "\n",
       "    .dataframe thead th {\n",
       "        text-align: right;\n",
       "    }\n",
       "</style>\n",
       "<table border=\"1\" class=\"dataframe\">\n",
       "  <thead>\n",
       "    <tr style=\"text-align: right;\">\n",
       "      <th></th>\n",
       "      <th>league</th>\n",
       "      <th>year</th>\n",
       "      <th>h_a</th>\n",
       "      <th>xG</th>\n",
       "      <th>xGA</th>\n",
       "      <th>npxG</th>\n",
       "      <th>npxGA</th>\n",
       "      <th>deep</th>\n",
       "      <th>deep_allowed</th>\n",
       "      <th>scored</th>\n",
       "      <th>...</th>\n",
       "      <th>ppda_coef</th>\n",
       "      <th>ppda_att</th>\n",
       "      <th>ppda_def</th>\n",
       "      <th>oppda_coef</th>\n",
       "      <th>oppda_att</th>\n",
       "      <th>oppda_def</th>\n",
       "      <th>team</th>\n",
       "      <th>xG_diff</th>\n",
       "      <th>xGA_diff</th>\n",
       "      <th>xpts_diff</th>\n",
       "    </tr>\n",
       "  </thead>\n",
       "  <tbody>\n",
       "    <tr>\n",
       "      <th>0</th>\n",
       "      <td>Bundesliga</td>\n",
       "      <td>2014</td>\n",
       "      <td>h</td>\n",
       "      <td>2.570120</td>\n",
       "      <td>1.198420</td>\n",
       "      <td>2.570120</td>\n",
       "      <td>1.198420</td>\n",
       "      <td>5</td>\n",
       "      <td>4</td>\n",
       "      <td>2</td>\n",
       "      <td>...</td>\n",
       "      <td>9.625000</td>\n",
       "      <td>231</td>\n",
       "      <td>24</td>\n",
       "      <td>21.850000</td>\n",
       "      <td>437</td>\n",
       "      <td>20</td>\n",
       "      <td>Bayern Munich</td>\n",
       "      <td>0.570120</td>\n",
       "      <td>0.198420</td>\n",
       "      <td>-0.6514</td>\n",
       "    </tr>\n",
       "    <tr>\n",
       "      <th>1</th>\n",
       "      <td>Bundesliga</td>\n",
       "      <td>2014</td>\n",
       "      <td>a</td>\n",
       "      <td>1.503280</td>\n",
       "      <td>1.307950</td>\n",
       "      <td>1.503280</td>\n",
       "      <td>1.307950</td>\n",
       "      <td>10</td>\n",
       "      <td>1</td>\n",
       "      <td>1</td>\n",
       "      <td>...</td>\n",
       "      <td>4.756098</td>\n",
       "      <td>195</td>\n",
       "      <td>41</td>\n",
       "      <td>17.695652</td>\n",
       "      <td>407</td>\n",
       "      <td>23</td>\n",
       "      <td>Bayern Munich</td>\n",
       "      <td>0.503280</td>\n",
       "      <td>0.307950</td>\n",
       "      <td>0.5143</td>\n",
       "    </tr>\n",
       "    <tr>\n",
       "      <th>2</th>\n",
       "      <td>Bundesliga</td>\n",
       "      <td>2014</td>\n",
       "      <td>h</td>\n",
       "      <td>1.229870</td>\n",
       "      <td>0.310166</td>\n",
       "      <td>1.229870</td>\n",
       "      <td>0.310166</td>\n",
       "      <td>13</td>\n",
       "      <td>3</td>\n",
       "      <td>2</td>\n",
       "      <td>...</td>\n",
       "      <td>5.060606</td>\n",
       "      <td>167</td>\n",
       "      <td>33</td>\n",
       "      <td>16.961538</td>\n",
       "      <td>441</td>\n",
       "      <td>26</td>\n",
       "      <td>Bayern Munich</td>\n",
       "      <td>-0.770130</td>\n",
       "      <td>0.310166</td>\n",
       "      <td>-0.8412</td>\n",
       "    </tr>\n",
       "    <tr>\n",
       "      <th>3</th>\n",
       "      <td>Bundesliga</td>\n",
       "      <td>2014</td>\n",
       "      <td>a</td>\n",
       "      <td>1.035190</td>\n",
       "      <td>0.203118</td>\n",
       "      <td>1.035190</td>\n",
       "      <td>0.203118</td>\n",
       "      <td>6</td>\n",
       "      <td>2</td>\n",
       "      <td>0</td>\n",
       "      <td>...</td>\n",
       "      <td>4.423077</td>\n",
       "      <td>115</td>\n",
       "      <td>26</td>\n",
       "      <td>9.446809</td>\n",
       "      <td>444</td>\n",
       "      <td>47</td>\n",
       "      <td>Bayern Munich</td>\n",
       "      <td>1.035190</td>\n",
       "      <td>0.203118</td>\n",
       "      <td>1.1367</td>\n",
       "    </tr>\n",
       "    <tr>\n",
       "      <th>4</th>\n",
       "      <td>Bundesliga</td>\n",
       "      <td>2014</td>\n",
       "      <td>h</td>\n",
       "      <td>3.482860</td>\n",
       "      <td>0.402844</td>\n",
       "      <td>3.482860</td>\n",
       "      <td>0.402844</td>\n",
       "      <td>23</td>\n",
       "      <td>2</td>\n",
       "      <td>4</td>\n",
       "      <td>...</td>\n",
       "      <td>4.250000</td>\n",
       "      <td>170</td>\n",
       "      <td>40</td>\n",
       "      <td>44.800000</td>\n",
       "      <td>448</td>\n",
       "      <td>10</td>\n",
       "      <td>Bayern Munich</td>\n",
       "      <td>-0.517140</td>\n",
       "      <td>0.402844</td>\n",
       "      <td>-0.0713</td>\n",
       "    </tr>\n",
       "    <tr>\n",
       "      <th>...</th>\n",
       "      <td>...</td>\n",
       "      <td>...</td>\n",
       "      <td>...</td>\n",
       "      <td>...</td>\n",
       "      <td>...</td>\n",
       "      <td>...</td>\n",
       "      <td>...</td>\n",
       "      <td>...</td>\n",
       "      <td>...</td>\n",
       "      <td>...</td>\n",
       "      <td>...</td>\n",
       "      <td>...</td>\n",
       "      <td>...</td>\n",
       "      <td>...</td>\n",
       "      <td>...</td>\n",
       "      <td>...</td>\n",
       "      <td>...</td>\n",
       "      <td>...</td>\n",
       "      <td>...</td>\n",
       "      <td>...</td>\n",
       "      <td>...</td>\n",
       "    </tr>\n",
       "    <tr>\n",
       "      <th>24575</th>\n",
       "      <td>Serie_A</td>\n",
       "      <td>2019</td>\n",
       "      <td>h</td>\n",
       "      <td>0.448154</td>\n",
       "      <td>2.587650</td>\n",
       "      <td>0.448154</td>\n",
       "      <td>1.826350</td>\n",
       "      <td>7</td>\n",
       "      <td>6</td>\n",
       "      <td>1</td>\n",
       "      <td>...</td>\n",
       "      <td>15.500000</td>\n",
       "      <td>310</td>\n",
       "      <td>20</td>\n",
       "      <td>19.600000</td>\n",
       "      <td>294</td>\n",
       "      <td>15</td>\n",
       "      <td>Lecce</td>\n",
       "      <td>-0.551846</td>\n",
       "      <td>-0.412350</td>\n",
       "      <td>0.1597</td>\n",
       "    </tr>\n",
       "    <tr>\n",
       "      <th>24576</th>\n",
       "      <td>Serie_A</td>\n",
       "      <td>2019</td>\n",
       "      <td>a</td>\n",
       "      <td>1.699320</td>\n",
       "      <td>0.446679</td>\n",
       "      <td>0.938022</td>\n",
       "      <td>0.446679</td>\n",
       "      <td>5</td>\n",
       "      <td>7</td>\n",
       "      <td>1</td>\n",
       "      <td>...</td>\n",
       "      <td>12.650000</td>\n",
       "      <td>253</td>\n",
       "      <td>20</td>\n",
       "      <td>14.600000</td>\n",
       "      <td>292</td>\n",
       "      <td>20</td>\n",
       "      <td>Lecce</td>\n",
       "      <td>0.699320</td>\n",
       "      <td>-1.553321</td>\n",
       "      <td>2.4418</td>\n",
       "    </tr>\n",
       "    <tr>\n",
       "      <th>24577</th>\n",
       "      <td>Serie_A</td>\n",
       "      <td>2019</td>\n",
       "      <td>h</td>\n",
       "      <td>2.535110</td>\n",
       "      <td>0.959100</td>\n",
       "      <td>2.535110</td>\n",
       "      <td>0.959100</td>\n",
       "      <td>5</td>\n",
       "      <td>7</td>\n",
       "      <td>3</td>\n",
       "      <td>...</td>\n",
       "      <td>13.777778</td>\n",
       "      <td>248</td>\n",
       "      <td>18</td>\n",
       "      <td>12.888889</td>\n",
       "      <td>348</td>\n",
       "      <td>27</td>\n",
       "      <td>Lecce</td>\n",
       "      <td>-0.464890</td>\n",
       "      <td>-0.040900</td>\n",
       "      <td>-0.5675</td>\n",
       "    </tr>\n",
       "    <tr>\n",
       "      <th>24578</th>\n",
       "      <td>Serie_A</td>\n",
       "      <td>2019</td>\n",
       "      <td>a</td>\n",
       "      <td>2.247360</td>\n",
       "      <td>2.689270</td>\n",
       "      <td>2.247360</td>\n",
       "      <td>2.689270</td>\n",
       "      <td>11</td>\n",
       "      <td>10</td>\n",
       "      <td>2</td>\n",
       "      <td>...</td>\n",
       "      <td>25.454545</td>\n",
       "      <td>280</td>\n",
       "      <td>11</td>\n",
       "      <td>10.600000</td>\n",
       "      <td>212</td>\n",
       "      <td>20</td>\n",
       "      <td>Lecce</td>\n",
       "      <td>0.247360</td>\n",
       "      <td>-0.310730</td>\n",
       "      <td>1.1019</td>\n",
       "    </tr>\n",
       "    <tr>\n",
       "      <th>24579</th>\n",
       "      <td>Serie_A</td>\n",
       "      <td>2019</td>\n",
       "      <td>a</td>\n",
       "      <td>1.934840</td>\n",
       "      <td>1.554200</td>\n",
       "      <td>1.173540</td>\n",
       "      <td>1.554200</td>\n",
       "      <td>6</td>\n",
       "      <td>6</td>\n",
       "      <td>2</td>\n",
       "      <td>...</td>\n",
       "      <td>10.291667</td>\n",
       "      <td>247</td>\n",
       "      <td>24</td>\n",
       "      <td>16.750000</td>\n",
       "      <td>268</td>\n",
       "      <td>16</td>\n",
       "      <td>Lecce</td>\n",
       "      <td>-0.065160</td>\n",
       "      <td>0.554200</td>\n",
       "      <td>-1.2913</td>\n",
       "    </tr>\n",
       "  </tbody>\n",
       "</table>\n",
       "<p>24580 rows × 29 columns</p>\n",
       "</div>"
      ],
      "text/plain": [
       "           league  year h_a        xG       xGA      npxG     npxGA  deep  \\\n",
       "0      Bundesliga  2014   h  2.570120  1.198420  2.570120  1.198420     5   \n",
       "1      Bundesliga  2014   a  1.503280  1.307950  1.503280  1.307950    10   \n",
       "2      Bundesliga  2014   h  1.229870  0.310166  1.229870  0.310166    13   \n",
       "3      Bundesliga  2014   a  1.035190  0.203118  1.035190  0.203118     6   \n",
       "4      Bundesliga  2014   h  3.482860  0.402844  3.482860  0.402844    23   \n",
       "...           ...   ...  ..       ...       ...       ...       ...   ...   \n",
       "24575     Serie_A  2019   h  0.448154  2.587650  0.448154  1.826350     7   \n",
       "24576     Serie_A  2019   a  1.699320  0.446679  0.938022  0.446679     5   \n",
       "24577     Serie_A  2019   h  2.535110  0.959100  2.535110  0.959100     5   \n",
       "24578     Serie_A  2019   a  2.247360  2.689270  2.247360  2.689270    11   \n",
       "24579     Serie_A  2019   a  1.934840  1.554200  1.173540  1.554200     6   \n",
       "\n",
       "       deep_allowed  scored  ...  ppda_coef  ppda_att ppda_def oppda_coef  \\\n",
       "0                 4       2  ...   9.625000       231       24  21.850000   \n",
       "1                 1       1  ...   4.756098       195       41  17.695652   \n",
       "2                 3       2  ...   5.060606       167       33  16.961538   \n",
       "3                 2       0  ...   4.423077       115       26   9.446809   \n",
       "4                 2       4  ...   4.250000       170       40  44.800000   \n",
       "...             ...     ...  ...        ...       ...      ...        ...   \n",
       "24575             6       1  ...  15.500000       310       20  19.600000   \n",
       "24576             7       1  ...  12.650000       253       20  14.600000   \n",
       "24577             7       3  ...  13.777778       248       18  12.888889   \n",
       "24578            10       2  ...  25.454545       280       11  10.600000   \n",
       "24579             6       2  ...  10.291667       247       24  16.750000   \n",
       "\n",
       "       oppda_att  oppda_def           team   xG_diff  xGA_diff  xpts_diff  \n",
       "0            437         20  Bayern Munich  0.570120  0.198420    -0.6514  \n",
       "1            407         23  Bayern Munich  0.503280  0.307950     0.5143  \n",
       "2            441         26  Bayern Munich -0.770130  0.310166    -0.8412  \n",
       "3            444         47  Bayern Munich  1.035190  0.203118     1.1367  \n",
       "4            448         10  Bayern Munich -0.517140  0.402844    -0.0713  \n",
       "...          ...        ...            ...       ...       ...        ...  \n",
       "24575        294         15          Lecce -0.551846 -0.412350     0.1597  \n",
       "24576        292         20          Lecce  0.699320 -1.553321     2.4418  \n",
       "24577        348         27          Lecce -0.464890 -0.040900    -0.5675  \n",
       "24578        212         20          Lecce  0.247360 -0.310730     1.1019  \n",
       "24579        268         16          Lecce -0.065160  0.554200    -1.2913  \n",
       "\n",
       "[24580 rows x 29 columns]"
      ]
     },
     "execution_count": 55,
     "metadata": {},
     "output_type": "execute_result"
    }
   ],
   "source": [
    "raw_data_details = pd.read_csv('data/understat_per_game.csv')\n",
    "raw_data_details"
   ]
  },
  {
   "cell_type": "markdown",
   "metadata": {
    "id": "bYXR8Xd-LrwL"
   },
   "source": [
    "#### Dữ liệu có bao nhiêu hàng, bao nhiêu cột?\n"
   ]
  },
  {
   "cell_type": "markdown",
   "metadata": {
    "id": "qZ64n7NrLrwL"
   },
   "source": [
    "Tiếp theo, chúng ta tính toán số lượng dòng và cột và lưu vào biến 'num_cols_details' và 'num_rows_details'"
   ]
  },
  {
   "cell_type": "code",
   "execution_count": 56,
   "metadata": {
    "colab": {
     "base_uri": "https://localhost:8080/"
    },
    "id": "N1yUvMYgLrwM",
    "outputId": "85163058-3a85-48a7-fbc2-cc3564713c10"
   },
   "outputs": [
    {
     "name": "stdout",
     "output_type": "stream",
     "text": [
      "Số dòng: 24580\n",
      "Số cột: 29\n"
     ]
    }
   ],
   "source": [
    "num_rows_details, num_cols_details =raw_data_details.shape\n",
    "print(f'Số dòng: {num_rows_details}')\n",
    "print(f'Số cột: {num_cols_details}')"
   ]
  },
  {
   "cell_type": "markdown",
   "metadata": {
    "id": "kCncv54PLrwM"
   },
   "source": [
    "#### Ý nghĩa của các dòng dữ liệu\n"
   ]
  },
  {
   "cell_type": "markdown",
   "metadata": {
    "id": "n1AAxX_wLrwM"
   },
   "source": [
    "Mỗi dòng đại diện cho một trận đấu cụ thể của một đội bóng trong mùa giải. Dòng dữ liệu cung cấp thông tin chi tiết về trận đấu, bao gồm ngày thi đấu, kết quả, chỉ số kỳ vọng, và các thông số liên quan đến pressing hoặc số điểm kỳ vọng."
   ]
  },
  {
   "cell_type": "markdown",
   "metadata": {
    "id": "memTK-5ZLrwM"
   },
   "source": [
    "#### Dữ liệu các dòng có bị lặp không?"
   ]
  },
  {
   "cell_type": "markdown",
   "metadata": {
    "id": "o_bfjNBzLrwM"
   },
   "source": [
    "Tiếp theo, tính toán số lượng dòng có lặp không và lưu vào biến 'duplicated_rows_overview'"
   ]
  },
  {
   "cell_type": "code",
   "execution_count": 57,
   "metadata": {
    "colab": {
     "base_uri": "https://localhost:8080/"
    },
    "id": "j627NQb3LrwN",
    "outputId": "f886ad5c-8d39-423d-e750-abd131b56f12"
   },
   "outputs": [
    {
     "name": "stdout",
     "output_type": "stream",
     "text": [
      "Không có dòng bị lặp trong dữ liệu.\n"
     ]
    }
   ],
   "source": [
    "duplicated_rows_details = raw_data_details[raw_data_details.duplicated()]\n",
    "if duplicated_rows_details.empty:\n",
    "    print(\"Không có dòng bị lặp trong dữ liệu.\")\n",
    "else:\n",
    "    print(\"Có dòng bị lặp trong dữ liệu.\")"
   ]
  },
  {
   "cell_type": "markdown",
   "metadata": {
    "id": "_sHjsBWyLrwN"
   },
   "source": [
    "Như vậy, giữa mỗi dòng không có dự liệu nào bị lặp"
   ]
  },
  {
   "cell_type": "markdown",
   "metadata": {
    "id": "szIx7533LrwN"
   },
   "source": [
    "#### Ý nghĩa của các cột dữ liệu"
   ]
  },
  {
   "cell_type": "markdown",
   "metadata": {
    "id": "gLg66EmkLrwN"
   },
   "source": [
    "- league: Tên giải đấu.\n",
    "\n",
    "- year: Năm diễn ra mùa giải.\n",
    "\n",
    "- h_a: Trận đấu diễn ra trên sân nhà (h) hay sân khách (a).\n",
    "\n",
    "- xG: Bàn thắng kỳ vọng trong trận đấu.\n",
    "\n",
    "- xGA: Bàn thua kỳ vọng trong trận đấu.\n",
    "\n",
    "- npxG: Bàn thắng kỳ vọng không tính phạt đền và phản lưới nhà trong trận.\n",
    "\n",
    "- npxGA: Bàn thua kỳ vọng không tính phạt đền và phản lưới nhà trong trận.\n",
    "\n",
    "- deep: Số pha tấn công sâu trong trận.\n",
    "\n",
    "- deep_allowed: Số pha tấn công sâu mà đội phải chống lại trong trận.\n",
    "\n",
    "- scored: Số bàn thắng thực tế trong trận.\n",
    "\n",
    "- missed: Số bàn thua thực tế trong trận.\n",
    "\n",
    "- xpts: Số điểm kỳ vọng từ trận đấu.\n",
    "\n",
    "- result: Kết quả trận đấu (thắng, hòa, thua: w-l-)\n",
    "\n",
    "- date: Ngày và giờ diễn ra trận đấu.\n",
    "\n",
    "- wins: kết quả trận đấu: 1 nếu thắng\n",
    "\n",
    "- draws: kết quả trận đấu: 1 nếu hòa\n",
    "\n",
    "- loses: kết quả trận đấu: 1 nếu thua\n",
    "\n",
    "- pts: Tổng số điểm tính đến thời điểm này.\n",
    "\n",
    "- npxGD: Hiệu số bàn thắng kỳ vọng không tính phạt đền (npxG - npxGA) trong trận.\n",
    "\n",
    "- ppda_coef: Chỉ số PPDA trong trận.\n",
    "\n",
    "- ppda_att: Tổng số đường chuyền của đối thủ trong các hành động pressing.\n",
    "\n",
    "- ppda_def: Tổng số hành động pressing của đội.\n",
    "\n",
    "- oppda_coef: Chỉ số pressing của đối thủ trong trận.\n",
    "\n",
    "- oppda_att: Tổng số đường chuyền của đội bị pressing bởi đối thủ.\n",
    "\n",
    "- oppda_def: Tổng số hành động pressing của đối thủ.\n",
    "\n",
    "- team: Tên đội bóng.\n",
    "\n",
    "- xG_diff: Hiệu số bàn thắng kỳ vọng so với thực tế trong trận.\n",
    "\n",
    "- xGA_diff: Hiệu số bàn thua kỳ vọng so với thực tế trong trận.\n",
    "\n",
    "- xpts_diff: Chênh lệch số điểm kỳ vọng so với thực tế trong trận."
   ]
  },
  {
   "cell_type": "markdown",
   "metadata": {
    "id": "-a0pjqAaLrwN"
   },
   "source": [
    "#### Kiểu dữ liệu của từng cột"
   ]
  },
  {
   "cell_type": "code",
   "execution_count": 58,
   "metadata": {
    "colab": {
     "base_uri": "https://localhost:8080/",
     "height": 993
    },
    "id": "riu32OhLLrwO",
    "outputId": "6dfec02f-70b3-4648-e219-e3202cf69bfb"
   },
   "outputs": [
    {
     "data": {
      "text/plain": [
       "league           object\n",
       "year              int64\n",
       "h_a              object\n",
       "xG              float64\n",
       "xGA             float64\n",
       "npxG            float64\n",
       "npxGA           float64\n",
       "deep              int64\n",
       "deep_allowed      int64\n",
       "scored            int64\n",
       "missed            int64\n",
       "xpts            float64\n",
       "result           object\n",
       "date             object\n",
       "wins              int64\n",
       "draws             int64\n",
       "loses             int64\n",
       "pts               int64\n",
       "npxGD           float64\n",
       "ppda_coef       float64\n",
       "ppda_att          int64\n",
       "ppda_def          int64\n",
       "oppda_coef      float64\n",
       "oppda_att         int64\n",
       "oppda_def         int64\n",
       "team             object\n",
       "xG_diff         float64\n",
       "xGA_diff        float64\n",
       "xpts_diff       float64\n",
       "dtype: object"
      ]
     },
     "execution_count": 58,
     "metadata": {},
     "output_type": "execute_result"
    }
   ],
   "source": [
    "raw_data_details.dtypes"
   ]
  },
  {
   "cell_type": "markdown",
   "metadata": {
    "id": "S8KWTXfiLrwO"
   },
   "source": [
    "#### Chuẩn hóa kiểu dữ liệu nếu chưa phù hợp"
   ]
  },
  {
   "cell_type": "markdown",
   "metadata": {
    "id": "_-b7kpqXLrwO"
   },
   "source": [
    "Nhận thấy rằng:\n",
    "* 'year' có kiểu dữ liệu số, tuy nhiên nó thể hiện thời gian thay vì một số. Do đó, ta sẽ chuyển đổi nó thành kiểu Object để thể hiện rõ ràng hơn\n",
    "\n",
    "* 'date' là kiểu dữ liệu thể hiển ngày giờ, chính về thế ta sẽ chuẩn hóa nó về dạng datetime\n",
    "\n",
    "* 'wins', 'draws', 'loses' thể hiện 0, 1, do đó ta sẽ chuẩn hóa về Boolen\n"
   ]
  },
  {
   "cell_type": "code",
   "execution_count": 59,
   "metadata": {
    "id": "OSOsRknDLrwO"
   },
   "outputs": [],
   "source": [
    "# Chuyển đổi 'year' thành kiểu object\n",
    "raw_data_details['year'] = raw_data_details['year'].astype('object')\n",
    "\n",
    "# Chuyển đổi 'date' thành kiểu datetime\n",
    "raw_data_details['date'] = pd.to_datetime(raw_data_details['date'])\n",
    "\n",
    "# Chuyển đổi 'wins', 'draws', 'losses' thành kiểu boolean\n",
    "raw_data_details['wins'] = raw_data_details['wins'].astype(bool)\n",
    "raw_data_details['draws'] = raw_data_details['draws'].astype(bool)\n",
    "raw_data_details['loses'] = raw_data_details['loses'].astype(bool)"
   ]
  },
  {
   "cell_type": "code",
   "execution_count": 60,
   "metadata": {
    "colab": {
     "base_uri": "https://localhost:8080/",
     "height": 993
    },
    "id": "2pcK3H2XSQzb",
    "outputId": "2fa50e7c-162f-4b02-ef40-2415c806d35f"
   },
   "outputs": [
    {
     "data": {
      "text/plain": [
       "league                  object\n",
       "year                    object\n",
       "h_a                     object\n",
       "xG                     float64\n",
       "xGA                    float64\n",
       "npxG                   float64\n",
       "npxGA                  float64\n",
       "deep                     int64\n",
       "deep_allowed             int64\n",
       "scored                   int64\n",
       "missed                   int64\n",
       "xpts                   float64\n",
       "result                  object\n",
       "date            datetime64[ns]\n",
       "wins                      bool\n",
       "draws                     bool\n",
       "loses                     bool\n",
       "pts                      int64\n",
       "npxGD                  float64\n",
       "ppda_coef              float64\n",
       "ppda_att                 int64\n",
       "ppda_def                 int64\n",
       "oppda_coef             float64\n",
       "oppda_att                int64\n",
       "oppda_def                int64\n",
       "team                    object\n",
       "xG_diff                float64\n",
       "xGA_diff               float64\n",
       "xpts_diff              float64\n",
       "dtype: object"
      ]
     },
     "execution_count": 60,
     "metadata": {},
     "output_type": "execute_result"
    }
   ],
   "source": [
    "raw_data_details.dtypes"
   ]
  },
  {
   "cell_type": "markdown",
   "metadata": {
    "id": "49iRqwtNLrwO"
   },
   "source": [
    "#### Với các cột dữ liệu không phải dạng số, các giá trị được phân bổ như thế nào\n",
    "\n",
    "Thực hiện thống kê và lưu vào một dataframe với các dòng là đại diện cho các giá trị như sau:\n",
    "- Tỉ lệ % (từ 0 đến 100) các giá trị thiếu (missing_ratio).\n",
    "- Số lượng các giá trị khác nhau (không xét giá trị thiếu) (num_values).\n",
    "- Tỉ lệ % (từ 0 đến 100) của mỗi giá trị được sort theo tỉ lệ % giảm dần (không xét giá trị thiếu, tỉ lệ là tỉ lệ so với số lượng các giá trị không thiếu): dùng dictionary để lưu, key là giá trị, value là tỉ lệ % (value_ratios)."
   ]
  },
  {
   "cell_type": "code",
   "execution_count": 61,
   "metadata": {
    "colab": {
     "base_uri": "https://localhost:8080/",
     "height": 331
    },
    "id": "6qtDI6gTLrwO",
    "outputId": "0d34b1cc-bad9-445c-c21b-7fa492709045"
   },
   "outputs": [
    {
     "data": {
      "text/html": [
       "<div>\n",
       "<style scoped>\n",
       "    .dataframe tbody tr th:only-of-type {\n",
       "        vertical-align: middle;\n",
       "    }\n",
       "\n",
       "    .dataframe tbody tr th {\n",
       "        vertical-align: top;\n",
       "    }\n",
       "\n",
       "    .dataframe thead th {\n",
       "        text-align: right;\n",
       "    }\n",
       "</style>\n",
       "<table border=\"1\" class=\"dataframe\">\n",
       "  <thead>\n",
       "    <tr style=\"text-align: right;\">\n",
       "      <th></th>\n",
       "      <th>column</th>\n",
       "      <th>missing_ratio</th>\n",
       "      <th>num_values</th>\n",
       "      <th>value_ratios</th>\n",
       "    </tr>\n",
       "  </thead>\n",
       "  <tbody>\n",
       "    <tr>\n",
       "      <th>0</th>\n",
       "      <td>league</td>\n",
       "      <td>0.0</td>\n",
       "      <td>6</td>\n",
       "      <td>{'EPL': 18.6, 'La_liga': 18.6, 'Serie_A': 18.5...</td>\n",
       "    </tr>\n",
       "    <tr>\n",
       "      <th>1</th>\n",
       "      <td>year</td>\n",
       "      <td>0.0</td>\n",
       "      <td>6</td>\n",
       "      <td>{2014: 16.8, 2015: 16.8, 2016: 16.8, 2017: 16....</td>\n",
       "    </tr>\n",
       "    <tr>\n",
       "      <th>2</th>\n",
       "      <td>h_a</td>\n",
       "      <td>0.0</td>\n",
       "      <td>2</td>\n",
       "      <td>{'h': 50.0, 'a': 50.0}</td>\n",
       "    </tr>\n",
       "    <tr>\n",
       "      <th>3</th>\n",
       "      <td>result</td>\n",
       "      <td>0.0</td>\n",
       "      <td>3</td>\n",
       "      <td>{'w': 37.4, 'l': 37.4, 'd': 25.2}</td>\n",
       "    </tr>\n",
       "    <tr>\n",
       "      <th>4</th>\n",
       "      <td>date</td>\n",
       "      <td>0.0</td>\n",
       "      <td>6632</td>\n",
       "      <td>{2019-05-12 14:00:00: 0.1, 2016-04-20 22:45:00...</td>\n",
       "    </tr>\n",
       "    <tr>\n",
       "      <th>5</th>\n",
       "      <td>wins</td>\n",
       "      <td>0.0</td>\n",
       "      <td>2</td>\n",
       "      <td>{False: 62.6, True: 37.4}</td>\n",
       "    </tr>\n",
       "    <tr>\n",
       "      <th>6</th>\n",
       "      <td>draws</td>\n",
       "      <td>0.0</td>\n",
       "      <td>2</td>\n",
       "      <td>{False: 74.8, True: 25.2}</td>\n",
       "    </tr>\n",
       "    <tr>\n",
       "      <th>7</th>\n",
       "      <td>loses</td>\n",
       "      <td>0.0</td>\n",
       "      <td>2</td>\n",
       "      <td>{False: 62.6, True: 37.4}</td>\n",
       "    </tr>\n",
       "    <tr>\n",
       "      <th>8</th>\n",
       "      <td>team</td>\n",
       "      <td>0.0</td>\n",
       "      <td>168</td>\n",
       "      <td>{'Real Sociedad': 0.9, 'Southampton': 0.9, 'Ma...</td>\n",
       "    </tr>\n",
       "  </tbody>\n",
       "</table>\n",
       "</div>"
      ],
      "text/plain": [
       "   column  missing_ratio  num_values  \\\n",
       "0  league            0.0           6   \n",
       "1    year            0.0           6   \n",
       "2     h_a            0.0           2   \n",
       "3  result            0.0           3   \n",
       "4    date            0.0        6632   \n",
       "5    wins            0.0           2   \n",
       "6   draws            0.0           2   \n",
       "7   loses            0.0           2   \n",
       "8    team            0.0         168   \n",
       "\n",
       "                                        value_ratios  \n",
       "0  {'EPL': 18.6, 'La_liga': 18.6, 'Serie_A': 18.5...  \n",
       "1  {2014: 16.8, 2015: 16.8, 2016: 16.8, 2017: 16....  \n",
       "2                             {'h': 50.0, 'a': 50.0}  \n",
       "3                  {'w': 37.4, 'l': 37.4, 'd': 25.2}  \n",
       "4  {2019-05-12 14:00:00: 0.1, 2016-04-20 22:45:00...  \n",
       "5                          {False: 62.6, True: 37.4}  \n",
       "6                          {False: 74.8, True: 25.2}  \n",
       "7                          {False: 62.6, True: 37.4}  \n",
       "8  {'Real Sociedad': 0.9, 'Southampton': 0.9, 'Ma...  "
      ]
     },
     "execution_count": 61,
     "metadata": {},
     "output_type": "execute_result"
    }
   ],
   "source": [
    "def categorical_analysis(df: pd.DataFrame) -> pd.DataFrame:\n",
    "    cat_cols = df.select_dtypes(exclude=['number']).columns\n",
    "    analysis_results = []\n",
    "\n",
    "    for col in cat_cols:\n",
    "        missing_ratio = round(df[col].isna().sum() / df.shape[0] * 100, 1)\n",
    "        num_values = df[col].nunique()\n",
    "        value_counts = df[col].value_counts(normalize=True)\n",
    "        value_ratios = {val: round(perc * 100, 1) for val, perc in value_counts.items()}\n",
    "\n",
    "        analysis_results.append({\n",
    "            'column': col,\n",
    "            'missing_ratio': missing_ratio,\n",
    "            'num_values': num_values,\n",
    "            'value_ratios': value_ratios,\n",
    "        })\n",
    "\n",
    "    return pd.DataFrame(analysis_results)\n",
    "\n",
    "cat_col_info_details = categorical_analysis(raw_data_details)\n",
    "cat_col_info_details"
   ]
  },
  {
   "cell_type": "markdown",
   "metadata": {
    "id": "xfFc8hzdLrwP"
   },
   "source": [
    "#### Với các cột có kiểu dữ liệu số, các giá trị được phân bổ như thế nào"
   ]
  },
  {
   "cell_type": "markdown",
   "metadata": {
    "id": "nhkcIf3zLrwP"
   },
   "source": [
    "Đối với các cột dữ liệu số, ta tính toán\n",
    "* Tỉ lệ các giá trị bị thiếu\n",
    "* Giá trị nhỏ nhất\n",
    "* Giá trị lớn nhất\n",
    "* Trung bình\n",
    "* Các Q1(25%), Q3(75%)\n",
    "\n",
    "Sau đó lưu vào DataFrame num_col_info, trong đó:\n",
    "* Tên các cột là cột có kiểu dữ liệu số\n",
    "* Tên các dòng là missing_ratio, min, lower_quartile, median, upper_quartile, max"
   ]
  },
  {
   "cell_type": "code",
   "execution_count": 62,
   "metadata": {
    "colab": {
     "base_uri": "https://localhost:8080/",
     "height": 257
    },
    "id": "dHJLThaKLrwP",
    "outputId": "99bb112e-40af-4afc-986c-f7bbc009af98"
   },
   "outputs": [
    {
     "data": {
      "text/html": [
       "<div>\n",
       "<style scoped>\n",
       "    .dataframe tbody tr th:only-of-type {\n",
       "        vertical-align: middle;\n",
       "    }\n",
       "\n",
       "    .dataframe tbody tr th {\n",
       "        vertical-align: top;\n",
       "    }\n",
       "\n",
       "    .dataframe thead th {\n",
       "        text-align: right;\n",
       "    }\n",
       "</style>\n",
       "<table border=\"1\" class=\"dataframe\">\n",
       "  <thead>\n",
       "    <tr style=\"text-align: right;\">\n",
       "      <th></th>\n",
       "      <th>xG</th>\n",
       "      <th>xGA</th>\n",
       "      <th>npxG</th>\n",
       "      <th>npxGA</th>\n",
       "      <th>deep</th>\n",
       "      <th>deep_allowed</th>\n",
       "      <th>scored</th>\n",
       "      <th>missed</th>\n",
       "      <th>xpts</th>\n",
       "      <th>pts</th>\n",
       "      <th>npxGD</th>\n",
       "      <th>ppda_coef</th>\n",
       "      <th>ppda_att</th>\n",
       "      <th>ppda_def</th>\n",
       "      <th>oppda_coef</th>\n",
       "      <th>oppda_att</th>\n",
       "      <th>oppda_def</th>\n",
       "      <th>xG_diff</th>\n",
       "      <th>xGA_diff</th>\n",
       "      <th>xpts_diff</th>\n",
       "    </tr>\n",
       "  </thead>\n",
       "  <tbody>\n",
       "    <tr>\n",
       "      <th>missing_ratio</th>\n",
       "      <td>0.0</td>\n",
       "      <td>0.0</td>\n",
       "      <td>0.0</td>\n",
       "      <td>0.0</td>\n",
       "      <td>0.0</td>\n",
       "      <td>0.0</td>\n",
       "      <td>0.0</td>\n",
       "      <td>0.0</td>\n",
       "      <td>0.0</td>\n",
       "      <td>0.0</td>\n",
       "      <td>0.0</td>\n",
       "      <td>0.0</td>\n",
       "      <td>0.0</td>\n",
       "      <td>0.0</td>\n",
       "      <td>0.0</td>\n",
       "      <td>0.0</td>\n",
       "      <td>0.0</td>\n",
       "      <td>0.0</td>\n",
       "      <td>0.0</td>\n",
       "      <td>0.0</td>\n",
       "    </tr>\n",
       "    <tr>\n",
       "      <th>min</th>\n",
       "      <td>0.0</td>\n",
       "      <td>0.0</td>\n",
       "      <td>0.0</td>\n",
       "      <td>0.0</td>\n",
       "      <td>0.0</td>\n",
       "      <td>0.0</td>\n",
       "      <td>0.0</td>\n",
       "      <td>0.0</td>\n",
       "      <td>0.0</td>\n",
       "      <td>0.0</td>\n",
       "      <td>-6.0</td>\n",
       "      <td>0.0</td>\n",
       "      <td>0.0</td>\n",
       "      <td>0.0</td>\n",
       "      <td>0.0</td>\n",
       "      <td>0.0</td>\n",
       "      <td>0.0</td>\n",
       "      <td>-5.9</td>\n",
       "      <td>-5.9</td>\n",
       "      <td>-3.0</td>\n",
       "    </tr>\n",
       "    <tr>\n",
       "      <th>lower_quartile</th>\n",
       "      <td>0.7</td>\n",
       "      <td>0.7</td>\n",
       "      <td>0.6</td>\n",
       "      <td>0.6</td>\n",
       "      <td>3.0</td>\n",
       "      <td>3.0</td>\n",
       "      <td>0.0</td>\n",
       "      <td>0.0</td>\n",
       "      <td>0.7</td>\n",
       "      <td>0.0</td>\n",
       "      <td>-0.7</td>\n",
       "      <td>7.0</td>\n",
       "      <td>179.0</td>\n",
       "      <td>19.0</td>\n",
       "      <td>7.0</td>\n",
       "      <td>179.0</td>\n",
       "      <td>19.0</td>\n",
       "      <td>-0.6</td>\n",
       "      <td>-0.6</td>\n",
       "      <td>-0.7</td>\n",
       "    </tr>\n",
       "    <tr>\n",
       "      <th>median</th>\n",
       "      <td>1.2</td>\n",
       "      <td>1.2</td>\n",
       "      <td>1.0</td>\n",
       "      <td>1.0</td>\n",
       "      <td>5.0</td>\n",
       "      <td>5.0</td>\n",
       "      <td>1.0</td>\n",
       "      <td>1.0</td>\n",
       "      <td>1.3</td>\n",
       "      <td>1.0</td>\n",
       "      <td>0.0</td>\n",
       "      <td>9.5</td>\n",
       "      <td>231.0</td>\n",
       "      <td>24.0</td>\n",
       "      <td>9.5</td>\n",
       "      <td>231.0</td>\n",
       "      <td>24.0</td>\n",
       "      <td>0.1</td>\n",
       "      <td>0.1</td>\n",
       "      <td>0.1</td>\n",
       "    </tr>\n",
       "    <tr>\n",
       "      <th>upper_quartile</th>\n",
       "      <td>1.8</td>\n",
       "      <td>1.8</td>\n",
       "      <td>1.6</td>\n",
       "      <td>1.6</td>\n",
       "      <td>8.0</td>\n",
       "      <td>8.0</td>\n",
       "      <td>2.0</td>\n",
       "      <td>2.0</td>\n",
       "      <td>2.1</td>\n",
       "      <td>3.0</td>\n",
       "      <td>0.7</td>\n",
       "      <td>13.1</td>\n",
       "      <td>290.0</td>\n",
       "      <td>29.0</td>\n",
       "      <td>13.1</td>\n",
       "      <td>290.0</td>\n",
       "      <td>29.0</td>\n",
       "      <td>0.6</td>\n",
       "      <td>0.6</td>\n",
       "      <td>0.7</td>\n",
       "    </tr>\n",
       "    <tr>\n",
       "      <th>max</th>\n",
       "      <td>6.6</td>\n",
       "      <td>6.6</td>\n",
       "      <td>6.6</td>\n",
       "      <td>6.6</td>\n",
       "      <td>42.0</td>\n",
       "      <td>42.0</td>\n",
       "      <td>10.0</td>\n",
       "      <td>10.0</td>\n",
       "      <td>3.0</td>\n",
       "      <td>3.0</td>\n",
       "      <td>6.0</td>\n",
       "      <td>152.0</td>\n",
       "      <td>764.0</td>\n",
       "      <td>65.0</td>\n",
       "      <td>152.0</td>\n",
       "      <td>764.0</td>\n",
       "      <td>65.0</td>\n",
       "      <td>5.1</td>\n",
       "      <td>5.1</td>\n",
       "      <td>2.9</td>\n",
       "    </tr>\n",
       "  </tbody>\n",
       "</table>\n",
       "</div>"
      ],
      "text/plain": [
       "                 xG  xGA  npxG  npxGA  deep  deep_allowed  scored  missed  \\\n",
       "missing_ratio   0.0  0.0   0.0    0.0   0.0           0.0     0.0     0.0   \n",
       "min             0.0  0.0   0.0    0.0   0.0           0.0     0.0     0.0   \n",
       "lower_quartile  0.7  0.7   0.6    0.6   3.0           3.0     0.0     0.0   \n",
       "median          1.2  1.2   1.0    1.0   5.0           5.0     1.0     1.0   \n",
       "upper_quartile  1.8  1.8   1.6    1.6   8.0           8.0     2.0     2.0   \n",
       "max             6.6  6.6   6.6    6.6  42.0          42.0    10.0    10.0   \n",
       "\n",
       "                xpts  pts  npxGD  ppda_coef  ppda_att  ppda_def  oppda_coef  \\\n",
       "missing_ratio    0.0  0.0    0.0        0.0       0.0       0.0         0.0   \n",
       "min              0.0  0.0   -6.0        0.0       0.0       0.0         0.0   \n",
       "lower_quartile   0.7  0.0   -0.7        7.0     179.0      19.0         7.0   \n",
       "median           1.3  1.0    0.0        9.5     231.0      24.0         9.5   \n",
       "upper_quartile   2.1  3.0    0.7       13.1     290.0      29.0        13.1   \n",
       "max              3.0  3.0    6.0      152.0     764.0      65.0       152.0   \n",
       "\n",
       "                oppda_att  oppda_def  xG_diff  xGA_diff  xpts_diff  \n",
       "missing_ratio         0.0        0.0      0.0       0.0        0.0  \n",
       "min                   0.0        0.0     -5.9      -5.9       -3.0  \n",
       "lower_quartile      179.0       19.0     -0.6      -0.6       -0.7  \n",
       "median              231.0       24.0      0.1       0.1        0.1  \n",
       "upper_quartile      290.0       29.0      0.6       0.6        0.7  \n",
       "max                 764.0       65.0      5.1       5.1        2.9  "
      ]
     },
     "execution_count": 62,
     "metadata": {},
     "output_type": "execute_result"
    }
   ],
   "source": [
    "def missing_ratio(s: pd.Series) -> float:\n",
    "    return round(s.isna().sum() / s.shape[0] * 100, 1)\n",
    "\n",
    "def lower_quartile(s: pd.Series) -> float:\n",
    "    return round(s.quantile(0.25), 1)\n",
    "\n",
    "def median(s: pd.Series) -> float:\n",
    "    return round(s.median(), 1)\n",
    "\n",
    "def upper_quartile(s: pd.Series) -> float:\n",
    "    return round(s.quantile(0.75), 1)\n",
    "\n",
    "num_col_info_details = raw_data_details.select_dtypes(include='number').agg([missing_ratio, \"min\", lower_quartile, median, upper_quartile, \"max\"]).round(1)\n",
    "num_col_info_details"
   ]
  },
  {
   "cell_type": "markdown",
   "metadata": {
    "id": "qKIOmlaILrwP"
   },
   "source": [
    "### A.2.Xử lý dữ liệu thiếu\n"
   ]
  },
  {
   "cell_type": "markdown",
   "metadata": {
    "id": "ZYygQLuqLrwP"
   },
   "source": [
    "#### Thống kế tỉ lệ dữ liệu bị thiếu"
   ]
  },
  {
   "cell_type": "code",
   "execution_count": 63,
   "metadata": {
    "colab": {
     "base_uri": "https://localhost:8080/"
    },
    "id": "aG7YGaXCLrwP",
    "outputId": "962b1a4f-2553-44af-c1a5-292597f1eeff"
   },
   "outputs": [
    {
     "data": {
      "text/plain": [
       "{'xG': 0.0,\n",
       " 'xGA': 0.0,\n",
       " 'npxG': 0.0,\n",
       " 'npxGA': 0.0,\n",
       " 'deep': 0.0,\n",
       " 'deep_allowed': 0.0,\n",
       " 'scored': 0.0,\n",
       " 'missed': 0.0,\n",
       " 'xpts': 0.0,\n",
       " 'pts': 0.0,\n",
       " 'npxGD': 0.0,\n",
       " 'ppda_coef': 0.0,\n",
       " 'ppda_att': 0.0,\n",
       " 'ppda_def': 0.0,\n",
       " 'oppda_coef': 0.0,\n",
       " 'oppda_att': 0.0,\n",
       " 'oppda_def': 0.0,\n",
       " 'xG_diff': 0.0,\n",
       " 'xGA_diff': 0.0,\n",
       " 'xpts_diff': 0.0}"
      ]
     },
     "execution_count": 63,
     "metadata": {},
     "output_type": "execute_result"
    }
   ],
   "source": [
    "dict(num_col_info_details.iloc[0])"
   ]
  },
  {
   "cell_type": "markdown",
   "metadata": {
    "id": "zV5zxZHnLrwQ"
   },
   "source": [
    "Sau khi thống kê dữ liệu, chúng ta thấy rằng nếu các dữ liệu có tỉ lệ thiếu quá nhiều sẽ dẫn đến thiếu nhiều và không sử dụng được nhiều, nên ta có thể xóa nó\n",
    "\n",
    "Nếu dữ liệu bị thiếu lớn hơn 75%, ta sẽ xóa cột đó và cập nhật lại Dataframe"
   ]
  },
  {
   "cell_type": "markdown",
   "metadata": {
    "id": "Eo-PdF_mLrwQ"
   },
   "source": [
    "#### Xóa cột có tỉ lệ thiếu trên 75%"
   ]
  },
  {
   "cell_type": "code",
   "execution_count": 64,
   "metadata": {
    "colab": {
     "base_uri": "https://localhost:8080/"
    },
    "id": "1aMSLG6PLrwQ",
    "outputId": "12c69eb6-da31-401a-f379-6d4a45949c5c"
   },
   "outputs": [
    {
     "name": "stdout",
     "output_type": "stream",
     "text": [
      "Không xóa cột nào\n"
     ]
    }
   ],
   "source": [
    "def drop_missing_features(df: pd.DataFrame, missing_lst: dict = dict(num_col_info_overview.iloc[0]), threshold: float = 75.0) -> pd.DataFrame:\n",
    "    copy = df.copy()\n",
    "    cols = []\n",
    "    for key, value in missing_lst.items():\n",
    "        if value > threshold:\n",
    "            cols.append(key)\n",
    "    if len(cols) > 0:\n",
    "        copy.drop(cols, axis=1, inplace=True)\n",
    "        print(f\"Xóa cột: {cols}\")\n",
    "    else:\n",
    "        print(\"Không xóa cột nào\")\n",
    "    return copy\n",
    "\n",
    "raw_data_details = drop_missing_features(raw_data_details, dict(num_col_info_details.iloc[0]))"
   ]
  },
  {
   "cell_type": "markdown",
   "metadata": {
    "id": "XKwyrPCrLrwR"
   },
   "source": [
    "Ta thấy rằng, sau khi check, không có cột nào bị thiếu dữ liệu"
   ]
  },
  {
   "cell_type": "markdown",
   "metadata": {
    "id": "fvGp3JKaLrwR"
   },
   "source": [
    "### A.3. Xử lý dữ liệu bị nhiều bằng dùng IQR"
   ]
  },
  {
   "cell_type": "markdown",
   "metadata": {
    "id": "bNsQshWtLrwR"
   },
   "source": [
    "Phương pháp IQR (Interquartile Range) là một cách phổ biến để xử lý dữ liệu bị nhiễu bằng cách loại bỏ các giá trị nằm ngoài khoảng từ\n",
    "𝑄\n",
    "1\n",
    "−\n",
    "1.5\n",
    "×\n",
    "𝐼\n",
    "𝑄\n",
    "𝑅\n",
    "Q1−1.5×IQR đến\n",
    "𝑄\n",
    "3\n",
    "+\n",
    "1.5\n",
    "×\n",
    "𝐼\n",
    "𝑄\n",
    "𝑅\n",
    "Q3+1.5×IQR. Tuy nhiên, phương pháp này có những hạn chế khi áp dụng cho dữ liệu trong file này do:\n",
    "* Phương pháp IQR giả định rằng dữ liệu có sự phân bố ổn định, nhưng trong dữ liệu bóng đá, các chỉ số như bàn thắng kỳ vọng (xG), bàn thua kỳ vọng (xGA) hay số điểm thường không tuân theo phân phối chuẩn.\n",
    "*   Những giá trị \"ngoại lệ\" trong dữ liệu không nhất thiết là lỗi, mà có thể là: một đội bóng có hiệu suất vượt trội (ghi nhiều bàn hơn bình thường, như 8 bàn trong một trận).\n",
    "Một trận đấu hiếm hoi với kết quả không thường thấy (ví dụ: 7–2).\n",
    "Trong bóng đá, các trường hợp bất thường này là phần tự nhiên của dữ liệu và không nên được loại bỏ hoặc điều chỉnh.\n",
    "* Một đội bóng ghi nhiều bàn hơn dự kiến (xG vượt xa giá trị thực tế) hoặc để thua ít hơn kỳ vọng có thể phản ánh chiến thuật hoặc phong độ đặc biệt. Đây không phải là nhiễu mà là đặc điểm cần giữ lại để phân tích.\n",
    "* Trận đấu với xG cao có thể là do đối thủ yếu hoặc lối chơi tấn công mạnh mẽ.\n",
    "* Một đội có nhiều điểm vượt xa kỳ vọng (xpts) có thể nhờ vào yếu tố may mắn hoặc chiến thuật hợp lý.\n",
    "* Một trận đấu có chỉ số kỳ vọng cao bất thường (ví dụ: xG = 5.0) có thể là do một chiến thắng áp đảo. Loại bỏ các trận như vậy sẽ làm mất thông tin về xu hướng hoặc khả năng bùng nổ của đội.\n",
    "\n",
    "**Loại bỏ dữ liệu như vậy sẽ làm mất thông tin quan trọng về các đội hoặc trận đấu có hiệu suất đặc biệt. Các yếu tố ngữ cảnh này không thể hiện qua IQR và việc loại bỏ \"nhiễu\" sẽ làm giảm độ chính xác của phân tích.**"
   ]
  },
  {
   "cell_type": "markdown",
   "metadata": {
    "id": "ptfd0EAjLrwR"
   },
   "source": [
    "## B. Giảm chiều dữ liệu"
   ]
  },
  {
   "cell_type": "markdown",
   "metadata": {
    "id": "5zSn9VXRLrwR"
   },
   "source": [
    "#### Vẽ correlation matrix"
   ]
  },
  {
   "cell_type": "code",
   "execution_count": 65,
   "metadata": {
    "colab": {
     "base_uri": "https://localhost:8080/",
     "height": 1000
    },
    "id": "F1Xs0llKLrwS",
    "outputId": "b65c884b-e9d1-499c-931f-6b60aba5a2ca"
   },
   "outputs": [
    {
     "data": {
      "image/png": "[encoded data removed]",
      "text/plain": [
       "<Figure size 1080x1080 with 2 Axes>"
      ]
     },
     "metadata": {
      "needs_background": "light"
     },
     "output_type": "display_data"
    }
   ],
   "source": [
    "numerical_data_details = raw_data_details.select_dtypes(include=['number'])\n",
    "\n",
    "correlation_matrix_details = numerical_data_details.corr()\n",
    "\n",
    "plt.figure(figsize=(15,15))\n",
    "sns.heatmap(correlation_matrix_details, annot=True, cmap='coolwarm', fmt=\".2f\")\n",
    "plt.title('Correlation Matrix')\n",
    "plt.show()"
   ]
  },
  {
   "cell_type": "markdown",
   "metadata": {
    "id": "l6sASLgqLrwS"
   },
   "source": [
    "####Sử dụng ma trận tương quan (Correlation Matrix) để xem xét độ tương quan giữa các biến:\n",
    "  - Loại bỏ các biến có độ tương quan cao (vì có thể gây trùng lặp thông tin).\n",
    "  - Giữ lại các biến quan trọng nhất để giảm độ phức tạp và tăng hiệu quả phân tích."
   ]
  },
  {
   "cell_type": "markdown",
   "metadata": {
    "id": "1klsMgtxLrwS"
   },
   "source": [
    "#### Xác định các cặp dữ liệu có độ tương quan cao hơn 0.8"
   ]
  },
  {
   "cell_type": "code",
   "execution_count": 66,
   "metadata": {
    "colab": {
     "base_uri": "https://localhost:8080/"
    },
    "id": "VMjivhugLrwS",
    "outputId": "7b82d917-0ef1-47d9-ea80-8a5e9e1caf39"
   },
   "outputs": [
    {
     "name": "stdout",
     "output_type": "stream",
     "text": [
      "Các cặp dữ liệu có độ tương quan cao: [('xG', 'npxG'), ('xGA', 'npxGA'), ('xpts', 'npxGD')]\n"
     ]
    }
   ],
   "source": [
    "threshold = 0.8\n",
    "\n",
    "highly_correlated = []\n",
    "for i in range(len(correlation_matrix_details.columns)):\n",
    "    for j in range(i + 1, len(correlation_matrix_details.columns)):\n",
    "        if abs(correlation_matrix_details.iloc[i, j]) > threshold:\n",
    "            colname1 = correlation_matrix_details.columns[i]\n",
    "            colname2 = correlation_matrix_details.columns[j]\n",
    "            highly_correlated.append((colname1, colname2))\n",
    "\n",
    "print(\"Các cặp dữ liệu có độ tương quan cao:\", highly_correlated)"
   ]
  },
  {
   "cell_type": "markdown",
   "metadata": {
    "id": "PdZJL2P3LrwS"
   },
   "source": [
    "**Giải thích**.\n",
    "\n",
    "- xG ↔ npxG: Bàn thắng kỳ vọng (xG) thường liên quan trực tiếp đến bàn thắng kỳ vọng không tính phạt đền (npxG).\n",
    "\n",
    "- xG ↔ npxGD: Bàn thắng kỳ vọng ảnh hưởng đến hiệu số bàn thắng kỳ vọng.\n"
   ]
  },
  {
   "cell_type": "markdown",
   "metadata": {
    "id": "L3BBjyNs5bhZ"
   },
   "source": [
    "Tuy nhiên, ta chọn không xóa cột nào. Việc không xóa các cặp dữ liệu có độ tương quan cao như ('xG', 'npxG'), ('xGA', 'npxGA'), và ('xpts', 'npxGD') dù chúng có độ tương quan cao là do chúng mang ý nghĩa ngữ cảnh riêng và giá trị thực tế trong dữ liệu bóng đá như sau:\n",
    "* Độ tương quan cao giữa xG và npxG là do penalty thường chiếm tỷ lệ nhỏ trong tổng số bàn thắng, nhưng chúng không hoàn toàn giống nhau. Trong một số phân tích, ta cần biết hiệu suất ghi bàn tổng thể (xG) hoặc hiệu suất không bao gồm yếu tố ngoại lệ như penalty (npxG). Cả hai đều mang giá trị phân tích quan trọng.\n",
    "* Tương tự như trên, mặc dù xGA và npxGA tương quan cao, chúng đại diện cho các khía cạnh phòng thủ khác nhau.\n",
    "* xpts thường được dùng để so sánh kết quả kỳ vọng với kết quả thực tế (đánh giá hiệu suất tổng thể), trong khi npxGD cung cấp chi tiết về khả năng tấn công và phòng thủ không liên quan đến penalty. Nên ta cũng chọn không xóa\n",
    "* Các chỉ số như xG, npxG, xpts không chỉ là con số mà còn chứa đựng ngữ cảnh chiến thuật và cách đội bóng thi đấu. Xóa một trong số đó sẽ làm mất đi một phần quan trọng của câu chuyện.\n",
    "\n"
   ]
  },
  {
   "cell_type": "markdown",
   "metadata": {
    "id": "ksOm2Kb1YS6j"
   },
   "source": [
    "Ở đây, ta nhận ra là Result-Wins-Draws-Loses đang bị trùng màu dữ liệu: khi Result là 'w', thì wins sẽ cho biến 1, draws và loses sẽ là biến 0; tương tự cho 'd' và 'l'\n",
    "\n",
    "Song song đó, cột Date cũng không còn quan trọng do mục tiêu chính là phân tích hiệu suất của đội bóng, trận bóng qua đó dự đoán kết quả, và data đã có'Season' nên Data là không cần rhieets\n",
    "\n",
    "=> Ta tiến hành xóa 3 cột Wins, Draws, Loses và cột Date giúp giảm chiều dữ liệu."
   ]
  },
  {
   "cell_type": "code",
   "execution_count": 67,
   "metadata": {
    "colab": {
     "base_uri": "https://localhost:8080/",
     "height": 359
    },
    "id": "qU0LaclZYU7y",
    "outputId": "454c9ead-3b81-467f-97fa-ca8b59b7670a"
   },
   "outputs": [
    {
     "name": "stdout",
     "output_type": "stream",
     "text": [
      "(24580, 26)\n"
     ]
    },
    {
     "data": {
      "text/html": [
       "<div>\n",
       "<style scoped>\n",
       "    .dataframe tbody tr th:only-of-type {\n",
       "        vertical-align: middle;\n",
       "    }\n",
       "\n",
       "    .dataframe tbody tr th {\n",
       "        vertical-align: top;\n",
       "    }\n",
       "\n",
       "    .dataframe thead th {\n",
       "        text-align: right;\n",
       "    }\n",
       "</style>\n",
       "<table border=\"1\" class=\"dataframe\">\n",
       "  <thead>\n",
       "    <tr style=\"text-align: right;\">\n",
       "      <th></th>\n",
       "      <th>league</th>\n",
       "      <th>year</th>\n",
       "      <th>h_a</th>\n",
       "      <th>xG</th>\n",
       "      <th>xGA</th>\n",
       "      <th>npxG</th>\n",
       "      <th>npxGA</th>\n",
       "      <th>deep</th>\n",
       "      <th>deep_allowed</th>\n",
       "      <th>scored</th>\n",
       "      <th>...</th>\n",
       "      <th>ppda_coef</th>\n",
       "      <th>ppda_att</th>\n",
       "      <th>ppda_def</th>\n",
       "      <th>oppda_coef</th>\n",
       "      <th>oppda_att</th>\n",
       "      <th>oppda_def</th>\n",
       "      <th>team</th>\n",
       "      <th>xG_diff</th>\n",
       "      <th>xGA_diff</th>\n",
       "      <th>xpts_diff</th>\n",
       "    </tr>\n",
       "  </thead>\n",
       "  <tbody>\n",
       "    <tr>\n",
       "      <th>0</th>\n",
       "      <td>Bundesliga</td>\n",
       "      <td>2014</td>\n",
       "      <td>h</td>\n",
       "      <td>2.57012</td>\n",
       "      <td>1.198420</td>\n",
       "      <td>2.57012</td>\n",
       "      <td>1.198420</td>\n",
       "      <td>5</td>\n",
       "      <td>4</td>\n",
       "      <td>2</td>\n",
       "      <td>...</td>\n",
       "      <td>9.625000</td>\n",
       "      <td>231</td>\n",
       "      <td>24</td>\n",
       "      <td>21.850000</td>\n",
       "      <td>437</td>\n",
       "      <td>20</td>\n",
       "      <td>Bayern Munich</td>\n",
       "      <td>0.57012</td>\n",
       "      <td>0.198420</td>\n",
       "      <td>-0.6514</td>\n",
       "    </tr>\n",
       "    <tr>\n",
       "      <th>1</th>\n",
       "      <td>Bundesliga</td>\n",
       "      <td>2014</td>\n",
       "      <td>a</td>\n",
       "      <td>1.50328</td>\n",
       "      <td>1.307950</td>\n",
       "      <td>1.50328</td>\n",
       "      <td>1.307950</td>\n",
       "      <td>10</td>\n",
       "      <td>1</td>\n",
       "      <td>1</td>\n",
       "      <td>...</td>\n",
       "      <td>4.756098</td>\n",
       "      <td>195</td>\n",
       "      <td>41</td>\n",
       "      <td>17.695652</td>\n",
       "      <td>407</td>\n",
       "      <td>23</td>\n",
       "      <td>Bayern Munich</td>\n",
       "      <td>0.50328</td>\n",
       "      <td>0.307950</td>\n",
       "      <td>0.5143</td>\n",
       "    </tr>\n",
       "    <tr>\n",
       "      <th>2</th>\n",
       "      <td>Bundesliga</td>\n",
       "      <td>2014</td>\n",
       "      <td>h</td>\n",
       "      <td>1.22987</td>\n",
       "      <td>0.310166</td>\n",
       "      <td>1.22987</td>\n",
       "      <td>0.310166</td>\n",
       "      <td>13</td>\n",
       "      <td>3</td>\n",
       "      <td>2</td>\n",
       "      <td>...</td>\n",
       "      <td>5.060606</td>\n",
       "      <td>167</td>\n",
       "      <td>33</td>\n",
       "      <td>16.961538</td>\n",
       "      <td>441</td>\n",
       "      <td>26</td>\n",
       "      <td>Bayern Munich</td>\n",
       "      <td>-0.77013</td>\n",
       "      <td>0.310166</td>\n",
       "      <td>-0.8412</td>\n",
       "    </tr>\n",
       "    <tr>\n",
       "      <th>3</th>\n",
       "      <td>Bundesliga</td>\n",
       "      <td>2014</td>\n",
       "      <td>a</td>\n",
       "      <td>1.03519</td>\n",
       "      <td>0.203118</td>\n",
       "      <td>1.03519</td>\n",
       "      <td>0.203118</td>\n",
       "      <td>6</td>\n",
       "      <td>2</td>\n",
       "      <td>0</td>\n",
       "      <td>...</td>\n",
       "      <td>4.423077</td>\n",
       "      <td>115</td>\n",
       "      <td>26</td>\n",
       "      <td>9.446809</td>\n",
       "      <td>444</td>\n",
       "      <td>47</td>\n",
       "      <td>Bayern Munich</td>\n",
       "      <td>1.03519</td>\n",
       "      <td>0.203118</td>\n",
       "      <td>1.1367</td>\n",
       "    </tr>\n",
       "    <tr>\n",
       "      <th>4</th>\n",
       "      <td>Bundesliga</td>\n",
       "      <td>2014</td>\n",
       "      <td>h</td>\n",
       "      <td>3.48286</td>\n",
       "      <td>0.402844</td>\n",
       "      <td>3.48286</td>\n",
       "      <td>0.402844</td>\n",
       "      <td>23</td>\n",
       "      <td>2</td>\n",
       "      <td>4</td>\n",
       "      <td>...</td>\n",
       "      <td>4.250000</td>\n",
       "      <td>170</td>\n",
       "      <td>40</td>\n",
       "      <td>44.800000</td>\n",
       "      <td>448</td>\n",
       "      <td>10</td>\n",
       "      <td>Bayern Munich</td>\n",
       "      <td>-0.51714</td>\n",
       "      <td>0.402844</td>\n",
       "      <td>-0.0713</td>\n",
       "    </tr>\n",
       "  </tbody>\n",
       "</table>\n",
       "<p>5 rows × 26 columns</p>\n",
       "</div>"
      ],
      "text/plain": [
       "       league  year h_a       xG       xGA     npxG     npxGA  deep  \\\n",
       "0  Bundesliga  2014   h  2.57012  1.198420  2.57012  1.198420     5   \n",
       "1  Bundesliga  2014   a  1.50328  1.307950  1.50328  1.307950    10   \n",
       "2  Bundesliga  2014   h  1.22987  0.310166  1.22987  0.310166    13   \n",
       "3  Bundesliga  2014   a  1.03519  0.203118  1.03519  0.203118     6   \n",
       "4  Bundesliga  2014   h  3.48286  0.402844  3.48286  0.402844    23   \n",
       "\n",
       "   deep_allowed  scored  ...  ppda_coef  ppda_att ppda_def oppda_coef  \\\n",
       "0             4       2  ...   9.625000       231       24  21.850000   \n",
       "1             1       1  ...   4.756098       195       41  17.695652   \n",
       "2             3       2  ...   5.060606       167       33  16.961538   \n",
       "3             2       0  ...   4.423077       115       26   9.446809   \n",
       "4             2       4  ...   4.250000       170       40  44.800000   \n",
       "\n",
       "   oppda_att  oppda_def           team  xG_diff  xGA_diff  xpts_diff  \n",
       "0        437         20  Bayern Munich  0.57012  0.198420    -0.6514  \n",
       "1        407         23  Bayern Munich  0.50328  0.307950     0.5143  \n",
       "2        441         26  Bayern Munich -0.77013  0.310166    -0.8412  \n",
       "3        444         47  Bayern Munich  1.03519  0.203118     1.1367  \n",
       "4        448         10  Bayern Munich -0.51714  0.402844    -0.0713  \n",
       "\n",
       "[5 rows x 26 columns]"
      ]
     },
     "execution_count": 67,
     "metadata": {},
     "output_type": "execute_result"
    }
   ],
   "source": [
    "raw_data_details.drop(columns=['wins', 'draws', 'loses'], inplace=True)\n",
    "\n",
    "print(raw_data_details.shape)\n",
    "raw_data_details.head()"
   ]
  },
  {
   "cell_type": "markdown",
   "metadata": {
    "id": "JeiPEgENLrwT"
   },
   "source": [
    "## C. Chuẩn hóa dữ liệu\n"
   ]
  },
  {
   "cell_type": "markdown",
   "metadata": {
    "id": "rl_JQJmn34Nk"
   },
   "source": [
    "Ta cũng sẽ **không thực hiện việc scaling** cho data này vì những lý do sau:\n",
    "* Các giá trị này có thang đo tự nhiên, phản ánh hiệu suất thực tế trong ngữ cảnh bóng đá: Ví dụ: xG có thể dao động từ 0 đến khoảng 5, còn pts chỉ có các giá trị rời rạc (0, 1, hoặc 3). Thang đo khác biệt giữa các cột không ảnh hưởng đến việc hiểu dữ liệu, vì chúng đều đại diện cho các khía cạnh cụ thể và có ý nghĩa riêng.\n",
    "* Nếu thực hiện scaling, các giá trị sẽ mất ý nghĩa trực tiếp: scored = 2 (2 bàn thắng) → Sau scaling, giá trị có thể trở thành 0.4, làm giảm tính trực quan và khó hiểu trong phân tích.\n",
    "* Khi tính các thống kê như trung bình, phương sai, hoặc tương quan, việc giữ nguyên giá trị gốc sẽ giúp bạn dễ dàng đưa ra các nhận xét dựa trên thực tế: trung bình số bàn thắng (scored) là 1.5 → Giá trị này có ý nghĩa rõ ràng hơn là một số sau khi chuẩn hóa, chẳng hạn 0.38.\n",
    "* Các đồ thị như histogram, scatter plot hay box plot thường trực tiếp phản ánh giá trị thực tế của các đặc trưng. Scaling có thể làm biến đổi dữ liệu, khiến kết quả trực quan hóa khó hiểu hoặc không phù hợp với ngữ cảnh.\n",
    "* Dữ liệu rời rạc hoặc tự nhiên, không bị chi phối bởi độ lớn giữa các cột."
   ]
  },
  {
   "cell_type": "markdown",
   "metadata": {
    "id": "GLgUtgrqLrwU"
   },
   "source": [
    "##D. Lưu dữ liệu"
   ]
  },
  {
   "cell_type": "code",
   "execution_count": 68,
   "metadata": {
    "id": "ri2X1FOMLrwU"
   },
   "outputs": [],
   "source": [
    "raw_data_details.to_csv('data/understat_per_game_preprocess.csv', index=False)"
   ]
  }
 ],
 "metadata": {
  "colab": {
   "provenance": []
  },
  "kernelspec": {
   "display_name": "Python 3",
   "name": "python3"
  },
  "language_info": {
   "codemirror_mode": {
    "name": "ipython",
    "version": 3
   },
   "file_extension": ".py",
   "mimetype": "text/x-python",
   "name": "python",
   "nbconvert_exporter": "python",
   "pygments_lexer": "ipython3",
   "version": "3.10.12"
  }
 },
 "nbformat": 4,
 "nbformat_minor": 0
}
